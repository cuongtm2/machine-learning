{
  "nbformat": 4,
  "nbformat_minor": 0,
  "metadata": {
    "colab": {
      "name": "TF training_Day1.ipynb",
      "provenance": [],
      "include_colab_link": true
    },
    "kernelspec": {
      "name": "python3",
      "display_name": "Python 3"
    },
    "language_info": {
      "name": "python"
    },
    "accelerator": "GPU"
  },
  "cells": [
    {
      "cell_type": "markdown",
      "metadata": {
        "id": "view-in-github",
        "colab_type": "text"
      },
      "source": [
        "<a href=\"https://colab.research.google.com/github/cuongtm2/machine-learning/blob/master/TF_training_Day1.ipynb\" target=\"_parent\"><img src=\"https://colab.research.google.com/assets/colab-badge.svg\" alt=\"Open In Colab\"/></a>"
      ]
    },
    {
      "cell_type": "markdown",
      "source": [
        "**LUYỆN TẬP THỰC HÀNH TENSORFLOW**\n",
        "\n",
        "[DAY 1] BASIC MODELING"
      ],
      "metadata": {
        "id": "IDtVVbFylG3y"
      }
    },
    {
      "cell_type": "markdown",
      "source": [
        "1. Linear regression\n",
        "\n",
        "Cho 2 mảng xs (biến độc lập) và ys (biến phụ thuộc) như dưới, sử dụng tensorflow hãy xây dựng một mô hình đơn giản thể hiện mối quan hệ của 2 biến này"
      ],
      "metadata": {
        "id": "ZFheJkvclfwy"
      }
    },
    {
      "cell_type": "code",
      "source": [
        "from google.colab import drive\n",
        "drive.mount('/content/drive')"
      ],
      "metadata": {
        "colab": {
          "base_uri": "https://localhost:8080/"
        },
        "id": "Cln_hbALxm8K",
        "outputId": "98a6bf15-e4ab-4c68-cf6c-411fd2f74d07"
      },
      "execution_count": 7,
      "outputs": [
        {
          "output_type": "stream",
          "name": "stdout",
          "text": [
            "Mounted at /content/drive\n"
          ]
        }
      ]
    },
    {
      "cell_type": "code",
      "execution_count": 6,
      "metadata": {
        "id": "1RwrL2LCk6d1"
      },
      "outputs": [],
      "source": [
        "import numpy as np\n",
        "import tensorflow as tf\n",
        "from tensorflow.keras.callbacks import ModelCheckpoint, EarlyStopping, ReduceLROnPlateau\n",
        "xs = np.array([-1.0, 0.0, 1.0, 2.0, 3.0, 4.0], dtype=float)\n",
        "ys = np.array([0.0, 1.0, 2.0, 3.0, 4.0, 5.0], dtype=float)"
      ]
    },
    {
      "cell_type": "code",
      "source": [
        "# YOUR CODE HERE\n",
        "x=xs.reshape(-1,1)\n",
        "y=ys.reshape(-1,1)\n",
        "\n",
        "model=tf.keras.Sequential([\n",
        "    tf.keras.layers.Dense(units=1,input_dim=1, activation = 'linear')\n",
        "])\n",
        "model.compile(\n",
        "    optimizer=tf.optimizers.Adam(0.01),\n",
        "    loss='mse')\n",
        "\n",
        "model.fit(x,y,epochs=1000, batch_size=1,verbose=0)\n",
        "model.predict([[10]])"
      ],
      "metadata": {
        "id": "QqqT296umXTA"
      },
      "execution_count": null,
      "outputs": []
    },
    {
      "cell_type": "markdown",
      "source": [
        "2. Fashion MNIST\n",
        "\n",
        "Xây dựng mô hình phân loại với bộ dữ liệu Fashion MNIST. <br>\n",
        "Chú ý: đầu vào ảnh 28x28, đầu ra: 10 nhãn phân loại"
      ],
      "metadata": {
        "id": "-fAziWyNl99U"
      }
    },
    {
      "cell_type": "code",
      "source": [
        "fashion_mnist = tf.keras.datasets.fashion_mnist"
      ],
      "metadata": {
        "id": "FTpirOr4mJQA"
      },
      "execution_count": 2,
      "outputs": []
    },
    {
      "cell_type": "code",
      "source": [
        "# YOUR CODE HERE\n",
        "(train_images, train_labels), (test_images, test_labels) = fashion_mnist.load_data()\n",
        "\n",
        "train_images = train_images / 255.0\n",
        "test_images = test_images / 255.0\n",
        "\n",
        "model_2 = tf.keras.Sequential([\n",
        "    tf.keras.layers.Conv2D(filters=32, kernel_size=3, activation='relu', input_shape=(28, 28, 1)),\n",
        "    tf.keras.layers.MaxPooling2D(pool_size=2),\n",
        "    tf.keras.layers.Conv2D(filters=64, kernel_size=3, activation='relu'),\n",
        "    tf.keras.layers.MaxPooling2D(pool_size=2),\n",
        "    tf.keras.layers.Flatten(),\n",
        "    tf.keras.layers.Dense(128, activation='relu'),\n",
        "    tf.keras.layers.Dropout(0.3),\n",
        "    tf.keras.layers.Dense(10, activation='softmax')\n",
        "])\n",
        "model_2.compile(optimizer='adam',\n",
        "              loss=tf.keras.losses.SparseCategoricalCrossentropy(from_logits=True),\n",
        "              metrics=['accuracy'])\n",
        "callback = tf.keras.callbacks.EarlyStopping(monitor='val_loss', patience=5)\n",
        "history_2=model_2.fit(train_images,train_labels,validation_data=(test_images,test_labels), verbose=1, epochs= 50 ,batch_size=1024, callbacks=[callback])"
      ],
      "metadata": {
        "id": "EaCjeFDEmw7B",
        "colab": {
          "base_uri": "https://localhost:8080/"
        },
        "outputId": "1189803f-7325-4f32-daf4-2b656826c9ac"
      },
      "execution_count": 4,
      "outputs": [
        {
          "output_type": "stream",
          "name": "stdout",
          "text": [
            "Epoch 1/50\n",
            " 7/59 [==>...........................] - ETA: 25s - loss: 2.1326 - accuracy: 0.3080"
          ]
        },
        {
          "output_type": "stream",
          "name": "stderr",
          "text": [
            "/usr/local/lib/python3.7/dist-packages/tensorflow/python/util/dispatch.py:1082: UserWarning: \"`sparse_categorical_crossentropy` received `from_logits=True`, but the `output` argument was produced by a sigmoid or softmax activation and thus does not represent logits. Was this intended?\"\n",
            "  return dispatch_target(*args, **kwargs)\n"
          ]
        },
        {
          "output_type": "stream",
          "name": "stdout",
          "text": [
            "59/59 [==============================] - 15s 77ms/step - loss: 1.0458 - accuracy: 0.6350 - val_loss: 0.5962 - val_accuracy: 0.7770\n",
            "Epoch 2/50\n",
            "59/59 [==============================] - 1s 21ms/step - loss: 0.5637 - accuracy: 0.7898 - val_loss: 0.4822 - val_accuracy: 0.8247\n",
            "Epoch 3/50\n",
            "59/59 [==============================] - 1s 20ms/step - loss: 0.4771 - accuracy: 0.8260 - val_loss: 0.4369 - val_accuracy: 0.8448\n",
            "Epoch 4/50\n",
            "59/59 [==============================] - 1s 21ms/step - loss: 0.4280 - accuracy: 0.8441 - val_loss: 0.4003 - val_accuracy: 0.8522\n",
            "Epoch 5/50\n",
            "59/59 [==============================] - 1s 21ms/step - loss: 0.3932 - accuracy: 0.8586 - val_loss: 0.3744 - val_accuracy: 0.8628\n",
            "Epoch 6/50\n",
            "59/59 [==============================] - 1s 20ms/step - loss: 0.3690 - accuracy: 0.8662 - val_loss: 0.3557 - val_accuracy: 0.8706\n",
            "Epoch 7/50\n",
            "59/59 [==============================] - 1s 21ms/step - loss: 0.3520 - accuracy: 0.8729 - val_loss: 0.3427 - val_accuracy: 0.8747\n",
            "Epoch 8/50\n",
            "59/59 [==============================] - 1s 20ms/step - loss: 0.3325 - accuracy: 0.8802 - val_loss: 0.3258 - val_accuracy: 0.8811\n",
            "Epoch 9/50\n",
            "59/59 [==============================] - 1s 20ms/step - loss: 0.3217 - accuracy: 0.8846 - val_loss: 0.3154 - val_accuracy: 0.8843\n",
            "Epoch 10/50\n",
            "59/59 [==============================] - 1s 20ms/step - loss: 0.3120 - accuracy: 0.8863 - val_loss: 0.3189 - val_accuracy: 0.8846\n",
            "Epoch 11/50\n",
            "59/59 [==============================] - 1s 21ms/step - loss: 0.3052 - accuracy: 0.8895 - val_loss: 0.3122 - val_accuracy: 0.8862\n",
            "Epoch 12/50\n",
            "59/59 [==============================] - 1s 20ms/step - loss: 0.2938 - accuracy: 0.8941 - val_loss: 0.2979 - val_accuracy: 0.8926\n",
            "Epoch 13/50\n",
            "59/59 [==============================] - 1s 21ms/step - loss: 0.2863 - accuracy: 0.8956 - val_loss: 0.2942 - val_accuracy: 0.8922\n",
            "Epoch 14/50\n",
            "59/59 [==============================] - 1s 21ms/step - loss: 0.2798 - accuracy: 0.8980 - val_loss: 0.2943 - val_accuracy: 0.8913\n",
            "Epoch 15/50\n",
            "59/59 [==============================] - 1s 20ms/step - loss: 0.2745 - accuracy: 0.8993 - val_loss: 0.2866 - val_accuracy: 0.8953\n",
            "Epoch 16/50\n",
            "59/59 [==============================] - 1s 20ms/step - loss: 0.2664 - accuracy: 0.9032 - val_loss: 0.2920 - val_accuracy: 0.8930\n",
            "Epoch 17/50\n",
            "59/59 [==============================] - 1s 20ms/step - loss: 0.2631 - accuracy: 0.9036 - val_loss: 0.2826 - val_accuracy: 0.8963\n",
            "Epoch 18/50\n",
            "59/59 [==============================] - 1s 20ms/step - loss: 0.2547 - accuracy: 0.9078 - val_loss: 0.2757 - val_accuracy: 0.9001\n",
            "Epoch 19/50\n",
            "59/59 [==============================] - 1s 21ms/step - loss: 0.2492 - accuracy: 0.9082 - val_loss: 0.2702 - val_accuracy: 0.9008\n",
            "Epoch 20/50\n",
            "59/59 [==============================] - 1s 20ms/step - loss: 0.2469 - accuracy: 0.9101 - val_loss: 0.2741 - val_accuracy: 0.8998\n",
            "Epoch 21/50\n",
            "59/59 [==============================] - 1s 20ms/step - loss: 0.2399 - accuracy: 0.9121 - val_loss: 0.2690 - val_accuracy: 0.9012\n",
            "Epoch 22/50\n",
            "59/59 [==============================] - 1s 21ms/step - loss: 0.2370 - accuracy: 0.9139 - val_loss: 0.2696 - val_accuracy: 0.9024\n",
            "Epoch 23/50\n",
            "59/59 [==============================] - 1s 21ms/step - loss: 0.2345 - accuracy: 0.9137 - val_loss: 0.2711 - val_accuracy: 0.9004\n",
            "Epoch 24/50\n",
            "59/59 [==============================] - 1s 21ms/step - loss: 0.2293 - accuracy: 0.9164 - val_loss: 0.2693 - val_accuracy: 0.9022\n",
            "Epoch 25/50\n",
            "59/59 [==============================] - 1s 20ms/step - loss: 0.2251 - accuracy: 0.9175 - val_loss: 0.2569 - val_accuracy: 0.9075\n",
            "Epoch 26/50\n",
            "59/59 [==============================] - 1s 21ms/step - loss: 0.2177 - accuracy: 0.9208 - val_loss: 0.2537 - val_accuracy: 0.9092\n",
            "Epoch 27/50\n",
            "59/59 [==============================] - 1s 21ms/step - loss: 0.2133 - accuracy: 0.9219 - val_loss: 0.2624 - val_accuracy: 0.9038\n",
            "Epoch 28/50\n",
            "59/59 [==============================] - 1s 20ms/step - loss: 0.2116 - accuracy: 0.9227 - val_loss: 0.2536 - val_accuracy: 0.9064\n",
            "Epoch 29/50\n",
            "59/59 [==============================] - 1s 21ms/step - loss: 0.2106 - accuracy: 0.9235 - val_loss: 0.2543 - val_accuracy: 0.9081\n",
            "Epoch 30/50\n",
            "59/59 [==============================] - 1s 20ms/step - loss: 0.2010 - accuracy: 0.9271 - val_loss: 0.2520 - val_accuracy: 0.9075\n",
            "Epoch 31/50\n",
            "59/59 [==============================] - 1s 20ms/step - loss: 0.1966 - accuracy: 0.9277 - val_loss: 0.2501 - val_accuracy: 0.9092\n",
            "Epoch 32/50\n",
            "59/59 [==============================] - 1s 22ms/step - loss: 0.1948 - accuracy: 0.9281 - val_loss: 0.2503 - val_accuracy: 0.9099\n",
            "Epoch 33/50\n",
            "59/59 [==============================] - 1s 21ms/step - loss: 0.1905 - accuracy: 0.9294 - val_loss: 0.2509 - val_accuracy: 0.9082\n",
            "Epoch 34/50\n",
            "59/59 [==============================] - 1s 22ms/step - loss: 0.1862 - accuracy: 0.9312 - val_loss: 0.2528 - val_accuracy: 0.9103\n",
            "Epoch 35/50\n",
            "59/59 [==============================] - 1s 20ms/step - loss: 0.1858 - accuracy: 0.9307 - val_loss: 0.2472 - val_accuracy: 0.9107\n",
            "Epoch 36/50\n",
            "59/59 [==============================] - 1s 21ms/step - loss: 0.1838 - accuracy: 0.9328 - val_loss: 0.2536 - val_accuracy: 0.9098\n",
            "Epoch 37/50\n",
            "59/59 [==============================] - 1s 21ms/step - loss: 0.1783 - accuracy: 0.9348 - val_loss: 0.2404 - val_accuracy: 0.9121\n",
            "Epoch 38/50\n",
            "59/59 [==============================] - 1s 21ms/step - loss: 0.1756 - accuracy: 0.9352 - val_loss: 0.2434 - val_accuracy: 0.9133\n",
            "Epoch 39/50\n",
            "59/59 [==============================] - 1s 20ms/step - loss: 0.1684 - accuracy: 0.9385 - val_loss: 0.2412 - val_accuracy: 0.9131\n",
            "Epoch 40/50\n",
            "59/59 [==============================] - 1s 22ms/step - loss: 0.1683 - accuracy: 0.9375 - val_loss: 0.2516 - val_accuracy: 0.9096\n",
            "Epoch 41/50\n",
            "59/59 [==============================] - 1s 21ms/step - loss: 0.1677 - accuracy: 0.9384 - val_loss: 0.2469 - val_accuracy: 0.9122\n",
            "Epoch 42/50\n",
            "59/59 [==============================] - 1s 22ms/step - loss: 0.1630 - accuracy: 0.9397 - val_loss: 0.2525 - val_accuracy: 0.9092\n"
          ]
        }
      ]
    },
    {
      "cell_type": "code",
      "source": [
        "\n",
        "(train_images, train_labels), (test_images, test_labels) = fashion_mnist.load_data()\n",
        "\n",
        "train_images = train_images / 255.0\n",
        "test_images = test_images / 255.0\n",
        "\n",
        "model_2 = tf.keras.Sequential([\n",
        "    tf.keras.layers.Conv2D(10, (3, 3), padding='same', activation='relu', input_shape=(28, 28, 1)),\n",
        "    tf.keras.layers.MaxPooling2D(pool_size=2),\n",
        "    tf.keras.layers.Flatten(),\n",
        "    tf.keras.layers.Dropout(0.5),\n",
        "    tf.keras.layers.Dense(100, activation='relu'),\n",
        "    tf.keras.layers.Dense(10, activation='softmax')\n",
        "])\n",
        "model_2.compile(optimizer='adam',\n",
        "              loss=tf.keras.losses.SparseCategoricalCrossentropy(from_logits=True),\n",
        "              metrics=['accuracy'])\n",
        "callbacks_list = [\n",
        "    EarlyStopping(\n",
        "        monitor='val_loss', \n",
        "        patience=4, \n",
        "        mode='min', \n",
        "        verbose=1\n",
        "    ),\n",
        "    ModelCheckpoint('/content/drive/MyDrive/tf_certification/model2.h5', \n",
        "                    monitor=\"val_accuracy\",\n",
        "                    mode=\"max\",\n",
        "                    verbose=1,\n",
        "                    save_best_only=True)\n",
        "    ]\n",
        "history_2=model_2.fit(train_images,train_labels,validation_data=(test_images,test_labels), verbose=1, epochs= 50 ,batch_size=128, callbacks=[callbacks_list])"
      ],
      "metadata": {
        "colab": {
          "base_uri": "https://localhost:8080/"
        },
        "id": "-ozNiOkhkvk1",
        "outputId": "fa54fe4a-d0b7-493d-c22c-6ae298ad2e47"
      },
      "execution_count": 9,
      "outputs": [
        {
          "output_type": "stream",
          "name": "stdout",
          "text": [
            "Epoch 1/50\n"
          ]
        },
        {
          "output_type": "stream",
          "name": "stderr",
          "text": [
            "/usr/local/lib/python3.7/dist-packages/tensorflow/python/util/dispatch.py:1082: UserWarning: \"`sparse_categorical_crossentropy` received `from_logits=True`, but the `output` argument was produced by a sigmoid or softmax activation and thus does not represent logits. Was this intended?\"\n",
            "  return dispatch_target(*args, **kwargs)\n"
          ]
        },
        {
          "output_type": "stream",
          "name": "stdout",
          "text": [
            "467/469 [============================>.] - ETA: 0s - loss: 0.5508 - accuracy: 0.8083\n",
            "Epoch 1: val_accuracy improved from -inf to 0.86500, saving model to /content/drive/MyDrive/tf_certification/model2.h5\n",
            "469/469 [==============================] - 2s 4ms/step - loss: 0.5504 - accuracy: 0.8084 - val_loss: 0.3892 - val_accuracy: 0.8650\n",
            "Epoch 2/50\n",
            "465/469 [============================>.] - ETA: 0s - loss: 0.3945 - accuracy: 0.8590\n",
            "Epoch 2: val_accuracy improved from 0.86500 to 0.88090, saving model to /content/drive/MyDrive/tf_certification/model2.h5\n",
            "469/469 [==============================] - 2s 4ms/step - loss: 0.3942 - accuracy: 0.8591 - val_loss: 0.3414 - val_accuracy: 0.8809\n",
            "Epoch 3/50\n",
            "463/469 [============================>.] - ETA: 0s - loss: 0.3573 - accuracy: 0.8723\n",
            "Epoch 3: val_accuracy improved from 0.88090 to 0.88830, saving model to /content/drive/MyDrive/tf_certification/model2.h5\n",
            "469/469 [==============================] - 2s 4ms/step - loss: 0.3571 - accuracy: 0.8722 - val_loss: 0.3211 - val_accuracy: 0.8883\n",
            "Epoch 4/50\n",
            "456/469 [============================>.] - ETA: 0s - loss: 0.3319 - accuracy: 0.8795\n",
            "Epoch 4: val_accuracy did not improve from 0.88830\n",
            "469/469 [==============================] - 2s 4ms/step - loss: 0.3308 - accuracy: 0.8800 - val_loss: 0.3110 - val_accuracy: 0.8875\n",
            "Epoch 5/50\n",
            "466/469 [============================>.] - ETA: 0s - loss: 0.3130 - accuracy: 0.8864\n",
            "Epoch 5: val_accuracy improved from 0.88830 to 0.89130, saving model to /content/drive/MyDrive/tf_certification/model2.h5\n",
            "469/469 [==============================] - 2s 4ms/step - loss: 0.3130 - accuracy: 0.8864 - val_loss: 0.2966 - val_accuracy: 0.8913\n",
            "Epoch 6/50\n",
            "467/469 [============================>.] - ETA: 0s - loss: 0.2959 - accuracy: 0.8917\n",
            "Epoch 6: val_accuracy improved from 0.89130 to 0.89340, saving model to /content/drive/MyDrive/tf_certification/model2.h5\n",
            "469/469 [==============================] - 2s 4ms/step - loss: 0.2961 - accuracy: 0.8917 - val_loss: 0.2867 - val_accuracy: 0.8934\n",
            "Epoch 7/50\n",
            "464/469 [============================>.] - ETA: 0s - loss: 0.2831 - accuracy: 0.8963\n",
            "Epoch 7: val_accuracy improved from 0.89340 to 0.89920, saving model to /content/drive/MyDrive/tf_certification/model2.h5\n",
            "469/469 [==============================] - 2s 4ms/step - loss: 0.2830 - accuracy: 0.8963 - val_loss: 0.2741 - val_accuracy: 0.8992\n",
            "Epoch 8/50\n",
            "468/469 [============================>.] - ETA: 0s - loss: 0.2727 - accuracy: 0.8998\n",
            "Epoch 8: val_accuracy improved from 0.89920 to 0.90190, saving model to /content/drive/MyDrive/tf_certification/model2.h5\n",
            "469/469 [==============================] - 2s 4ms/step - loss: 0.2728 - accuracy: 0.8997 - val_loss: 0.2708 - val_accuracy: 0.9019\n",
            "Epoch 9/50\n",
            "468/469 [============================>.] - ETA: 0s - loss: 0.2639 - accuracy: 0.9019\n",
            "Epoch 9: val_accuracy improved from 0.90190 to 0.90200, saving model to /content/drive/MyDrive/tf_certification/model2.h5\n",
            "469/469 [==============================] - 2s 4ms/step - loss: 0.2637 - accuracy: 0.9020 - val_loss: 0.2627 - val_accuracy: 0.9020\n",
            "Epoch 10/50\n",
            "468/469 [============================>.] - ETA: 0s - loss: 0.2546 - accuracy: 0.9061\n",
            "Epoch 10: val_accuracy improved from 0.90200 to 0.90900, saving model to /content/drive/MyDrive/tf_certification/model2.h5\n",
            "469/469 [==============================] - 2s 4ms/step - loss: 0.2547 - accuracy: 0.9061 - val_loss: 0.2541 - val_accuracy: 0.9090\n",
            "Epoch 11/50\n",
            "469/469 [==============================] - ETA: 0s - loss: 0.2439 - accuracy: 0.9085\n",
            "Epoch 11: val_accuracy did not improve from 0.90900\n",
            "469/469 [==============================] - 2s 4ms/step - loss: 0.2439 - accuracy: 0.9085 - val_loss: 0.2548 - val_accuracy: 0.9051\n",
            "Epoch 12/50\n",
            "456/469 [============================>.] - ETA: 0s - loss: 0.2386 - accuracy: 0.9112\n",
            "Epoch 12: val_accuracy improved from 0.90900 to 0.91210, saving model to /content/drive/MyDrive/tf_certification/model2.h5\n",
            "469/469 [==============================] - 2s 4ms/step - loss: 0.2391 - accuracy: 0.9110 - val_loss: 0.2438 - val_accuracy: 0.9121\n",
            "Epoch 13/50\n",
            "457/469 [============================>.] - ETA: 0s - loss: 0.2349 - accuracy: 0.9131\n",
            "Epoch 13: val_accuracy did not improve from 0.91210\n",
            "469/469 [==============================] - 2s 4ms/step - loss: 0.2345 - accuracy: 0.9131 - val_loss: 0.2469 - val_accuracy: 0.9102\n",
            "Epoch 14/50\n",
            "468/469 [============================>.] - ETA: 0s - loss: 0.2286 - accuracy: 0.9152\n",
            "Epoch 14: val_accuracy did not improve from 0.91210\n",
            "469/469 [==============================] - 2s 4ms/step - loss: 0.2288 - accuracy: 0.9151 - val_loss: 0.2381 - val_accuracy: 0.9111\n",
            "Epoch 15/50\n",
            "461/469 [============================>.] - ETA: 0s - loss: 0.2217 - accuracy: 0.9170\n",
            "Epoch 15: val_accuracy did not improve from 0.91210\n",
            "469/469 [==============================] - 2s 4ms/step - loss: 0.2218 - accuracy: 0.9170 - val_loss: 0.2466 - val_accuracy: 0.9090\n",
            "Epoch 16/50\n",
            "461/469 [============================>.] - ETA: 0s - loss: 0.2166 - accuracy: 0.9192\n",
            "Epoch 16: val_accuracy improved from 0.91210 to 0.91490, saving model to /content/drive/MyDrive/tf_certification/model2.h5\n",
            "469/469 [==============================] - 2s 4ms/step - loss: 0.2168 - accuracy: 0.9191 - val_loss: 0.2332 - val_accuracy: 0.9149\n",
            "Epoch 17/50\n",
            "468/469 [============================>.] - ETA: 0s - loss: 0.2135 - accuracy: 0.9197\n",
            "Epoch 17: val_accuracy did not improve from 0.91490\n",
            "469/469 [==============================] - 2s 4ms/step - loss: 0.2134 - accuracy: 0.9197 - val_loss: 0.2363 - val_accuracy: 0.9127\n",
            "Epoch 18/50\n",
            "465/469 [============================>.] - ETA: 0s - loss: 0.2086 - accuracy: 0.9213\n",
            "Epoch 18: val_accuracy did not improve from 0.91490\n",
            "469/469 [==============================] - 2s 4ms/step - loss: 0.2091 - accuracy: 0.9212 - val_loss: 0.2352 - val_accuracy: 0.9126\n",
            "Epoch 19/50\n",
            "459/469 [============================>.] - ETA: 0s - loss: 0.2023 - accuracy: 0.9243\n",
            "Epoch 19: val_accuracy did not improve from 0.91490\n",
            "469/469 [==============================] - 2s 4ms/step - loss: 0.2024 - accuracy: 0.9243 - val_loss: 0.2347 - val_accuracy: 0.9128\n",
            "Epoch 20/50\n",
            "467/469 [============================>.] - ETA: 0s - loss: 0.2001 - accuracy: 0.9246\n",
            "Epoch 20: val_accuracy did not improve from 0.91490\n",
            "469/469 [==============================] - 2s 4ms/step - loss: 0.2000 - accuracy: 0.9247 - val_loss: 0.2359 - val_accuracy: 0.9116\n",
            "Epoch 20: early stopping\n"
          ]
        }
      ]
    },
    {
      "cell_type": "code",
      "source": [
        "\n",
        "(train_images, train_labels), (test_images, test_labels) = fashion_mnist.load_data()\n",
        "\n",
        "train_images = train_images / 255.0\n",
        "test_images = test_images / 255.0\n",
        "\n",
        "model_2 = tf.keras.Sequential([\n",
        "    tf.keras.layers.Conv2D(filters=32, kernel_size=3, activation='relu', input_shape=(28, 28, 1)),\n",
        "    tf.keras.layers.MaxPooling2D(pool_size=2),\n",
        "    tf.keras.layers.Conv2D(filters=64, kernel_size=3, activation='relu'),\n",
        "    tf.keras.layers.MaxPooling2D(pool_size=2),\n",
        "    tf.keras.layers.Conv2D(filters=64, kernel_size=3, activation='relu'),\n",
        "    tf.keras.layers.MaxPooling2D(pool_size=2),\n",
        "    tf.keras.layers.Flatten(),\n",
        "    tf.keras.layers.Dense(128, activation='relu'),\n",
        "    tf.keras.layers.Dropout(0.3),\n",
        "    tf.keras.layers.Dense(10, activation='softmax')\n",
        "])\n",
        "model_2.compile(optimizer='adam',\n",
        "              loss=tf.keras.losses.SparseCategoricalCrossentropy(from_logits=True),\n",
        "              metrics=['accuracy'])\n",
        "callbacks_list = [\n",
        "    EarlyStopping(\n",
        "        monitor='val_loss', \n",
        "        patience=4, \n",
        "        mode='min', \n",
        "        verbose=1\n",
        "    ),\n",
        "    ModelCheckpoint('/content/drive/MyDrive/tf_certification/model2_1.h5', \n",
        "                    monitor=\"val_accuracy\",\n",
        "                    mode=\"max\",\n",
        "                    verbose=1,\n",
        "                    save_best_only=True)\n",
        "    ]\n",
        "history_2=model_2.fit(train_images,train_labels,validation_data=(test_images,test_labels), verbose=1, epochs= 50 ,batch_size=128, callbacks=[callbacks_list])"
      ],
      "metadata": {
        "colab": {
          "base_uri": "https://localhost:8080/"
        },
        "id": "hEkLGYo_zvgL",
        "outputId": "951608fa-7e4d-48d8-9027-9d329968c473"
      },
      "execution_count": 10,
      "outputs": [
        {
          "output_type": "stream",
          "name": "stdout",
          "text": [
            "Epoch 1/50\n"
          ]
        },
        {
          "output_type": "stream",
          "name": "stderr",
          "text": [
            "/usr/local/lib/python3.7/dist-packages/tensorflow/python/util/dispatch.py:1082: UserWarning: \"`sparse_categorical_crossentropy` received `from_logits=True`, but the `output` argument was produced by a sigmoid or softmax activation and thus does not represent logits. Was this intended?\"\n",
            "  return dispatch_target(*args, **kwargs)\n"
          ]
        },
        {
          "output_type": "stream",
          "name": "stdout",
          "text": [
            "469/469 [==============================] - ETA: 0s - loss: 0.7685 - accuracy: 0.7221\n",
            "Epoch 1: val_accuracy improved from -inf to 0.80830, saving model to /content/drive/MyDrive/tf_certification/model2_1.h5\n",
            "469/469 [==============================] - 4s 6ms/step - loss: 0.7685 - accuracy: 0.7221 - val_loss: 0.5230 - val_accuracy: 0.8083\n",
            "Epoch 2/50\n",
            "467/469 [============================>.] - ETA: 0s - loss: 0.4863 - accuracy: 0.8234\n",
            "Epoch 2: val_accuracy improved from 0.80830 to 0.83830, saving model to /content/drive/MyDrive/tf_certification/model2_1.h5\n",
            "469/469 [==============================] - 3s 6ms/step - loss: 0.4863 - accuracy: 0.8235 - val_loss: 0.4330 - val_accuracy: 0.8383\n",
            "Epoch 3/50\n",
            "468/469 [============================>.] - ETA: 0s - loss: 0.4192 - accuracy: 0.8464\n",
            "Epoch 3: val_accuracy improved from 0.83830 to 0.85880, saving model to /content/drive/MyDrive/tf_certification/model2_1.h5\n",
            "469/469 [==============================] - 3s 5ms/step - loss: 0.4192 - accuracy: 0.8464 - val_loss: 0.3943 - val_accuracy: 0.8588\n",
            "Epoch 4/50\n",
            "467/469 [============================>.] - ETA: 0s - loss: 0.3765 - accuracy: 0.8627\n",
            "Epoch 4: val_accuracy improved from 0.85880 to 0.86170, saving model to /content/drive/MyDrive/tf_certification/model2_1.h5\n",
            "469/469 [==============================] - 3s 5ms/step - loss: 0.3763 - accuracy: 0.8628 - val_loss: 0.3700 - val_accuracy: 0.8617\n",
            "Epoch 5/50\n",
            "468/469 [============================>.] - ETA: 0s - loss: 0.3494 - accuracy: 0.8727\n",
            "Epoch 5: val_accuracy improved from 0.86170 to 0.86810, saving model to /content/drive/MyDrive/tf_certification/model2_1.h5\n",
            "469/469 [==============================] - 3s 6ms/step - loss: 0.3494 - accuracy: 0.8727 - val_loss: 0.3589 - val_accuracy: 0.8681\n",
            "Epoch 6/50\n",
            "461/469 [============================>.] - ETA: 0s - loss: 0.3276 - accuracy: 0.8801\n",
            "Epoch 6: val_accuracy improved from 0.86810 to 0.87670, saving model to /content/drive/MyDrive/tf_certification/model2_1.h5\n",
            "469/469 [==============================] - 3s 5ms/step - loss: 0.3267 - accuracy: 0.8805 - val_loss: 0.3474 - val_accuracy: 0.8767\n",
            "Epoch 7/50\n",
            "461/469 [============================>.] - ETA: 0s - loss: 0.3062 - accuracy: 0.8873\n",
            "Epoch 7: val_accuracy did not improve from 0.87670\n",
            "469/469 [==============================] - 3s 5ms/step - loss: 0.3062 - accuracy: 0.8873 - val_loss: 0.3525 - val_accuracy: 0.8723\n",
            "Epoch 8/50\n",
            "464/469 [============================>.] - ETA: 0s - loss: 0.2896 - accuracy: 0.8942\n",
            "Epoch 8: val_accuracy improved from 0.87670 to 0.88380, saving model to /content/drive/MyDrive/tf_certification/model2_1.h5\n",
            "469/469 [==============================] - 3s 5ms/step - loss: 0.2900 - accuracy: 0.8942 - val_loss: 0.3169 - val_accuracy: 0.8838\n",
            "Epoch 9/50\n",
            "461/469 [============================>.] - ETA: 0s - loss: 0.2743 - accuracy: 0.8984\n",
            "Epoch 9: val_accuracy improved from 0.88380 to 0.88680, saving model to /content/drive/MyDrive/tf_certification/model2_1.h5\n",
            "469/469 [==============================] - 3s 5ms/step - loss: 0.2740 - accuracy: 0.8984 - val_loss: 0.3085 - val_accuracy: 0.8868\n",
            "Epoch 10/50\n",
            "468/469 [============================>.] - ETA: 0s - loss: 0.2640 - accuracy: 0.9041\n",
            "Epoch 10: val_accuracy did not improve from 0.88680\n",
            "469/469 [==============================] - 3s 6ms/step - loss: 0.2640 - accuracy: 0.9041 - val_loss: 0.3178 - val_accuracy: 0.8812\n",
            "Epoch 11/50\n",
            "462/469 [============================>.] - ETA: 0s - loss: 0.2503 - accuracy: 0.9080\n",
            "Epoch 11: val_accuracy improved from 0.88680 to 0.89060, saving model to /content/drive/MyDrive/tf_certification/model2_1.h5\n",
            "469/469 [==============================] - 3s 6ms/step - loss: 0.2505 - accuracy: 0.9079 - val_loss: 0.3064 - val_accuracy: 0.8906\n",
            "Epoch 12/50\n",
            "468/469 [============================>.] - ETA: 0s - loss: 0.2391 - accuracy: 0.9118\n",
            "Epoch 12: val_accuracy improved from 0.89060 to 0.89350, saving model to /content/drive/MyDrive/tf_certification/model2_1.h5\n",
            "469/469 [==============================] - 3s 6ms/step - loss: 0.2390 - accuracy: 0.9118 - val_loss: 0.2982 - val_accuracy: 0.8935\n",
            "Epoch 13/50\n",
            "464/469 [============================>.] - ETA: 0s - loss: 0.2295 - accuracy: 0.9150\n",
            "Epoch 13: val_accuracy did not improve from 0.89350\n",
            "469/469 [==============================] - 3s 5ms/step - loss: 0.2295 - accuracy: 0.9150 - val_loss: 0.3047 - val_accuracy: 0.8902\n",
            "Epoch 14/50\n",
            "461/469 [============================>.] - ETA: 0s - loss: 0.2197 - accuracy: 0.9188\n",
            "Epoch 14: val_accuracy did not improve from 0.89350\n",
            "469/469 [==============================] - 3s 6ms/step - loss: 0.2193 - accuracy: 0.9189 - val_loss: 0.3054 - val_accuracy: 0.8927\n",
            "Epoch 15/50\n",
            "469/469 [==============================] - ETA: 0s - loss: 0.2110 - accuracy: 0.9212\n",
            "Epoch 15: val_accuracy did not improve from 0.89350\n",
            "469/469 [==============================] - 3s 6ms/step - loss: 0.2110 - accuracy: 0.9212 - val_loss: 0.3100 - val_accuracy: 0.8933\n",
            "Epoch 16/50\n",
            "469/469 [==============================] - ETA: 0s - loss: 0.2025 - accuracy: 0.9251\n",
            "Epoch 16: val_accuracy did not improve from 0.89350\n",
            "469/469 [==============================] - 3s 5ms/step - loss: 0.2025 - accuracy: 0.9251 - val_loss: 0.3123 - val_accuracy: 0.8917\n",
            "Epoch 16: early stopping\n"
          ]
        }
      ]
    },
    {
      "cell_type": "code",
      "source": [
        ""
      ],
      "metadata": {
        "id": "r2_u2_hk6V4k"
      },
      "execution_count": null,
      "outputs": []
    }
  ]
}