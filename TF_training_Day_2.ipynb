{
  "nbformat": 4,
  "nbformat_minor": 0,
  "metadata": {
    "colab": {
      "name": "TF_training_Day 2.ipynb",
      "provenance": [],
      "include_colab_link": true
    },
    "kernelspec": {
      "name": "python3",
      "display_name": "Python 3"
    },
    "language_info": {
      "name": "python"
    },
    "accelerator": "GPU"
  },
  "cells": [
    {
      "cell_type": "markdown",
      "metadata": {
        "id": "view-in-github",
        "colab_type": "text"
      },
      "source": [
        "<a href=\"https://colab.research.google.com/github/cuongtm2/machine-learning/blob/master/TF_training_Day_2.ipynb\" target=\"_parent\"><img src=\"https://colab.research.google.com/assets/colab-badge.svg\" alt=\"Open In Colab\"/></a>"
      ]
    },
    {
      "cell_type": "markdown",
      "source": [
        "**LUYỆN TẬP THỰC HÀNH TENSORFLOW**\n",
        "\n",
        "[DAY 2] TEXT AND IMAGE PROCESSING"
      ],
      "metadata": {
        "id": "9bOopPz99UnX"
      }
    },
    {
      "cell_type": "code",
      "source": [
        "!pip install tensorflow==2.3.0\n",
        "!pip install tensorflow_datasets==3.2.1\n",
        "!pip install Pillow==7.2.0"
      ],
      "metadata": {
        "colab": {
          "base_uri": "https://localhost:8080/"
        },
        "id": "F7LuatyP971S",
        "outputId": "787f584b-c2b1-46eb-94c3-048be158b096"
      },
      "execution_count": 3,
      "outputs": [
        {
          "output_type": "stream",
          "name": "stdout",
          "text": [
            "Looking in indexes: https://pypi.org/simple, https://us-python.pkg.dev/colab-wheels/public/simple/\n",
            "Requirement already satisfied: tensorflow==2.3.0 in /usr/local/lib/python3.7/dist-packages (2.3.0)\n",
            "Requirement already satisfied: astunparse==1.6.3 in /usr/local/lib/python3.7/dist-packages (from tensorflow==2.3.0) (1.6.3)\n",
            "Requirement already satisfied: termcolor>=1.1.0 in /usr/local/lib/python3.7/dist-packages (from tensorflow==2.3.0) (1.1.0)\n",
            "Requirement already satisfied: keras-preprocessing<1.2,>=1.1.1 in /usr/local/lib/python3.7/dist-packages (from tensorflow==2.3.0) (1.1.2)\n",
            "Requirement already satisfied: opt-einsum>=2.3.2 in /usr/local/lib/python3.7/dist-packages (from tensorflow==2.3.0) (3.3.0)\n",
            "Requirement already satisfied: protobuf>=3.9.2 in /usr/local/lib/python3.7/dist-packages (from tensorflow==2.3.0) (3.17.3)\n",
            "Requirement already satisfied: tensorboard<3,>=2.3.0 in /usr/local/lib/python3.7/dist-packages (from tensorflow==2.3.0) (2.8.0)\n",
            "Requirement already satisfied: google-pasta>=0.1.8 in /usr/local/lib/python3.7/dist-packages (from tensorflow==2.3.0) (0.2.0)\n",
            "Requirement already satisfied: numpy<1.19.0,>=1.16.0 in /usr/local/lib/python3.7/dist-packages (from tensorflow==2.3.0) (1.18.5)\n",
            "Requirement already satisfied: h5py<2.11.0,>=2.10.0 in /usr/local/lib/python3.7/dist-packages (from tensorflow==2.3.0) (2.10.0)\n",
            "Requirement already satisfied: wrapt>=1.11.1 in /usr/local/lib/python3.7/dist-packages (from tensorflow==2.3.0) (1.14.1)\n",
            "Requirement already satisfied: scipy==1.4.1 in /usr/local/lib/python3.7/dist-packages (from tensorflow==2.3.0) (1.4.1)\n",
            "Requirement already satisfied: wheel>=0.26 in /usr/local/lib/python3.7/dist-packages (from tensorflow==2.3.0) (0.37.1)\n",
            "Requirement already satisfied: six>=1.12.0 in /usr/local/lib/python3.7/dist-packages (from tensorflow==2.3.0) (1.15.0)\n",
            "Requirement already satisfied: grpcio>=1.8.6 in /usr/local/lib/python3.7/dist-packages (from tensorflow==2.3.0) (1.46.1)\n",
            "Requirement already satisfied: tensorflow-estimator<2.4.0,>=2.3.0 in /usr/local/lib/python3.7/dist-packages (from tensorflow==2.3.0) (2.3.0)\n",
            "Requirement already satisfied: gast==0.3.3 in /usr/local/lib/python3.7/dist-packages (from tensorflow==2.3.0) (0.3.3)\n",
            "Requirement already satisfied: absl-py>=0.7.0 in /usr/local/lib/python3.7/dist-packages (from tensorflow==2.3.0) (1.0.0)\n",
            "Requirement already satisfied: tensorboard-data-server<0.7.0,>=0.6.0 in /usr/local/lib/python3.7/dist-packages (from tensorboard<3,>=2.3.0->tensorflow==2.3.0) (0.6.1)\n",
            "Requirement already satisfied: google-auth<3,>=1.6.3 in /usr/local/lib/python3.7/dist-packages (from tensorboard<3,>=2.3.0->tensorflow==2.3.0) (1.35.0)\n",
            "Requirement already satisfied: tensorboard-plugin-wit>=1.6.0 in /usr/local/lib/python3.7/dist-packages (from tensorboard<3,>=2.3.0->tensorflow==2.3.0) (1.8.1)\n",
            "Requirement already satisfied: werkzeug>=0.11.15 in /usr/local/lib/python3.7/dist-packages (from tensorboard<3,>=2.3.0->tensorflow==2.3.0) (1.0.1)\n",
            "Requirement already satisfied: setuptools>=41.0.0 in /usr/local/lib/python3.7/dist-packages (from tensorboard<3,>=2.3.0->tensorflow==2.3.0) (57.4.0)\n",
            "Requirement already satisfied: google-auth-oauthlib<0.5,>=0.4.1 in /usr/local/lib/python3.7/dist-packages (from tensorboard<3,>=2.3.0->tensorflow==2.3.0) (0.4.6)\n",
            "Requirement already satisfied: markdown>=2.6.8 in /usr/local/lib/python3.7/dist-packages (from tensorboard<3,>=2.3.0->tensorflow==2.3.0) (3.3.7)\n",
            "Requirement already satisfied: requests<3,>=2.21.0 in /usr/local/lib/python3.7/dist-packages (from tensorboard<3,>=2.3.0->tensorflow==2.3.0) (2.23.0)\n",
            "Requirement already satisfied: rsa<5,>=3.1.4 in /usr/local/lib/python3.7/dist-packages (from google-auth<3,>=1.6.3->tensorboard<3,>=2.3.0->tensorflow==2.3.0) (4.8)\n",
            "Requirement already satisfied: pyasn1-modules>=0.2.1 in /usr/local/lib/python3.7/dist-packages (from google-auth<3,>=1.6.3->tensorboard<3,>=2.3.0->tensorflow==2.3.0) (0.2.8)\n",
            "Requirement already satisfied: cachetools<5.0,>=2.0.0 in /usr/local/lib/python3.7/dist-packages (from google-auth<3,>=1.6.3->tensorboard<3,>=2.3.0->tensorflow==2.3.0) (4.2.4)\n",
            "Requirement already satisfied: requests-oauthlib>=0.7.0 in /usr/local/lib/python3.7/dist-packages (from google-auth-oauthlib<0.5,>=0.4.1->tensorboard<3,>=2.3.0->tensorflow==2.3.0) (1.3.1)\n",
            "Requirement already satisfied: importlib-metadata>=4.4 in /usr/local/lib/python3.7/dist-packages (from markdown>=2.6.8->tensorboard<3,>=2.3.0->tensorflow==2.3.0) (4.11.3)\n",
            "Requirement already satisfied: typing-extensions>=3.6.4 in /usr/local/lib/python3.7/dist-packages (from importlib-metadata>=4.4->markdown>=2.6.8->tensorboard<3,>=2.3.0->tensorflow==2.3.0) (4.2.0)\n",
            "Requirement already satisfied: zipp>=0.5 in /usr/local/lib/python3.7/dist-packages (from importlib-metadata>=4.4->markdown>=2.6.8->tensorboard<3,>=2.3.0->tensorflow==2.3.0) (3.8.0)\n",
            "Requirement already satisfied: pyasn1<0.5.0,>=0.4.6 in /usr/local/lib/python3.7/dist-packages (from pyasn1-modules>=0.2.1->google-auth<3,>=1.6.3->tensorboard<3,>=2.3.0->tensorflow==2.3.0) (0.4.8)\n",
            "Requirement already satisfied: idna<3,>=2.5 in /usr/local/lib/python3.7/dist-packages (from requests<3,>=2.21.0->tensorboard<3,>=2.3.0->tensorflow==2.3.0) (2.10)\n",
            "Requirement already satisfied: certifi>=2017.4.17 in /usr/local/lib/python3.7/dist-packages (from requests<3,>=2.21.0->tensorboard<3,>=2.3.0->tensorflow==2.3.0) (2022.5.18.1)\n",
            "Requirement already satisfied: urllib3!=1.25.0,!=1.25.1,<1.26,>=1.21.1 in /usr/local/lib/python3.7/dist-packages (from requests<3,>=2.21.0->tensorboard<3,>=2.3.0->tensorflow==2.3.0) (1.24.3)\n",
            "Requirement already satisfied: chardet<4,>=3.0.2 in /usr/local/lib/python3.7/dist-packages (from requests<3,>=2.21.0->tensorboard<3,>=2.3.0->tensorflow==2.3.0) (3.0.4)\n",
            "Requirement already satisfied: oauthlib>=3.0.0 in /usr/local/lib/python3.7/dist-packages (from requests-oauthlib>=0.7.0->google-auth-oauthlib<0.5,>=0.4.1->tensorboard<3,>=2.3.0->tensorflow==2.3.0) (3.2.0)\n",
            "Looking in indexes: https://pypi.org/simple, https://us-python.pkg.dev/colab-wheels/public/simple/\n",
            "Requirement already satisfied: tensorflow_datasets==3.2.1 in /usr/local/lib/python3.7/dist-packages (3.2.1)\n",
            "Requirement already satisfied: six in /usr/local/lib/python3.7/dist-packages (from tensorflow_datasets==3.2.1) (1.15.0)\n",
            "Requirement already satisfied: tqdm in /usr/local/lib/python3.7/dist-packages (from tensorflow_datasets==3.2.1) (4.64.0)\n",
            "Requirement already satisfied: attrs>=18.1.0 in /usr/local/lib/python3.7/dist-packages (from tensorflow_datasets==3.2.1) (21.4.0)\n",
            "Requirement already satisfied: tensorflow-metadata in /usr/local/lib/python3.7/dist-packages (from tensorflow_datasets==3.2.1) (1.8.0)\n",
            "Requirement already satisfied: dill in /usr/local/lib/python3.7/dist-packages (from tensorflow_datasets==3.2.1) (0.3.5.1)\n",
            "Requirement already satisfied: protobuf>=3.6.1 in /usr/local/lib/python3.7/dist-packages (from tensorflow_datasets==3.2.1) (3.17.3)\n",
            "Requirement already satisfied: numpy in /usr/local/lib/python3.7/dist-packages (from tensorflow_datasets==3.2.1) (1.18.5)\n",
            "Requirement already satisfied: absl-py in /usr/local/lib/python3.7/dist-packages (from tensorflow_datasets==3.2.1) (1.0.0)\n",
            "Requirement already satisfied: future in /usr/local/lib/python3.7/dist-packages (from tensorflow_datasets==3.2.1) (0.16.0)\n",
            "Requirement already satisfied: requests>=2.19.0 in /usr/local/lib/python3.7/dist-packages (from tensorflow_datasets==3.2.1) (2.23.0)\n",
            "Requirement already satisfied: termcolor in /usr/local/lib/python3.7/dist-packages (from tensorflow_datasets==3.2.1) (1.1.0)\n",
            "Requirement already satisfied: promise in /usr/local/lib/python3.7/dist-packages (from tensorflow_datasets==3.2.1) (2.3)\n",
            "Requirement already satisfied: wrapt in /usr/local/lib/python3.7/dist-packages (from tensorflow_datasets==3.2.1) (1.14.1)\n",
            "Requirement already satisfied: urllib3!=1.25.0,!=1.25.1,<1.26,>=1.21.1 in /usr/local/lib/python3.7/dist-packages (from requests>=2.19.0->tensorflow_datasets==3.2.1) (1.24.3)\n",
            "Requirement already satisfied: idna<3,>=2.5 in /usr/local/lib/python3.7/dist-packages (from requests>=2.19.0->tensorflow_datasets==3.2.1) (2.10)\n",
            "Requirement already satisfied: certifi>=2017.4.17 in /usr/local/lib/python3.7/dist-packages (from requests>=2.19.0->tensorflow_datasets==3.2.1) (2022.5.18.1)\n",
            "Requirement already satisfied: chardet<4,>=3.0.2 in /usr/local/lib/python3.7/dist-packages (from requests>=2.19.0->tensorflow_datasets==3.2.1) (3.0.4)\n",
            "Requirement already satisfied: googleapis-common-protos<2,>=1.52.0 in /usr/local/lib/python3.7/dist-packages (from tensorflow-metadata->tensorflow_datasets==3.2.1) (1.56.1)\n",
            "Looking in indexes: https://pypi.org/simple, https://us-python.pkg.dev/colab-wheels/public/simple/\n",
            "Requirement already satisfied: Pillow==7.2.0 in /usr/local/lib/python3.7/dist-packages (7.2.0)\n"
          ]
        }
      ]
    },
    {
      "cell_type": "code",
      "source": [
        "from google.colab import drive\n",
        "drive.mount('/content/drive')"
      ],
      "metadata": {
        "colab": {
          "base_uri": "https://localhost:8080/"
        },
        "id": "arxKtqAr1OC3",
        "outputId": "1b08a55f-dd09-47ce-93e3-4422b12f547a"
      },
      "execution_count": 3,
      "outputs": [
        {
          "output_type": "stream",
          "name": "stdout",
          "text": [
            "Drive already mounted at /content/drive; to attempt to forcibly remount, call drive.mount(\"/content/drive\", force_remount=True).\n"
          ]
        }
      ]
    },
    {
      "cell_type": "code",
      "source": [
        "import urllib\n",
        "import zipfile\n",
        "import numpy as np\n",
        "import tensorflow as tf\n",
        "from tensorflow.keras.preprocessing.image import ImageDataGenerator\n",
        "from tensorflow.keras.callbacks import ModelCheckpoint, EarlyStopping, ReduceLROnPlateau"
      ],
      "metadata": {
        "id": "X_7fX0T295ml"
      },
      "execution_count": 14,
      "outputs": []
    },
    {
      "cell_type": "markdown",
      "source": [
        "1. Image classification\n",
        "\n",
        "Bộ dữ liệu Người hay ngựa (Horse or human) được tải về sẵn như dưới"
      ],
      "metadata": {
        "id": "XG5m_4Wz9ajX"
      }
    },
    {
      "cell_type": "code",
      "execution_count": 5,
      "metadata": {
        "id": "zsBSbpcc9Jju"
      },
      "outputs": [],
      "source": [
        "_TRAIN_URL = \"https://storage.googleapis.com/download.tensorflow.org/data/horse-or-human.zip\"\n",
        "_TEST_URL = \"https://storage.googleapis.com/download.tensorflow.org/data/validation-horse-or-human.zip\"\n",
        "urllib.request.urlretrieve(_TRAIN_URL, 'horse-or-human.zip')\n",
        "local_zip = 'horse-or-human.zip'\n",
        "zip_ref = zipfile.ZipFile(local_zip, 'r')\n",
        "zip_ref.extractall('tmp/horse-or-human/')\n",
        "zip_ref.close()\n",
        "urllib.request.urlretrieve(_TEST_URL, 'testdata.zip')\n",
        "local_zip = 'testdata.zip'\n",
        "zip_ref = zipfile.ZipFile(local_zip, 'r')\n",
        "zip_ref.extractall('tmp/testdata/')\n",
        "zip_ref.close()"
      ]
    },
    {
      "cell_type": "markdown",
      "source": [
        "Dữ liệu ảnh Người - ngựa đã được lưu vào các thư mục: dir_train, dir_test.\n",
        "Hãy load dữ liệu này thành dataset và huấn luyện một mô hình phân loại người - ngựa\n"
      ],
      "metadata": {
        "id": "PtJYx80264P6"
      }
    },
    {
      "cell_type": "code",
      "source": [
        "dir_train = 'tmp/horse-or-human/'\n",
        "dir_test = 'tmp/testdata/'\n",
        "\n"
      ],
      "metadata": {
        "id": "5a3n5R8r9v_D"
      },
      "execution_count": 6,
      "outputs": []
    },
    {
      "cell_type": "code",
      "source": [
        ""
      ],
      "metadata": {
        "id": "Wxtk5-i82K09"
      },
      "execution_count": null,
      "outputs": []
    },
    {
      "cell_type": "code",
      "source": [
        "from tensorflow.keras.applications.efficientnet import EfficientNetB7, preprocess_input"
      ],
      "metadata": {
        "id": "4KC42eJRzqkd"
      },
      "execution_count": 7,
      "outputs": []
    },
    {
      "cell_type": "code",
      "source": [
        "train_datagen = ImageDataGenerator(preprocessing_function=preprocess_input, \n",
        "                                   horizontal_flip=True, \n",
        "                                   zoom_range=0.2,\n",
        "                                   shear_range=0.2,\n",
        "                                   rotation_range=20,\n",
        "                                   width_shift_range=0.2,\n",
        "                                   height_shift_range=0.2)\n",
        "train_generator = train_datagen.flow_from_directory(directory=dir_train, \n",
        "                                                    target_size=(224,224),\n",
        "                                                    class_mode='binary',\n",
        "                                                    batch_size=32,\n",
        "                                                    shuffle=True)\n",
        "\n",
        "val_datagen = ImageDataGenerator(preprocessing_function=preprocess_input)\n",
        "val_generator = train_datagen.flow_from_directory(directory=dir_test,\n",
        "                                                  target_size=(224,224), \n",
        "                                                  class_mode='binary', \n",
        "                                                  batch_size=32,\n",
        "                                                  shuffle=True)"
      ],
      "metadata": {
        "colab": {
          "base_uri": "https://localhost:8080/"
        },
        "id": "p1rwzcx0zuuk",
        "outputId": "74fe7de7-dd9a-483d-d060-c32f3111371a"
      },
      "execution_count": 16,
      "outputs": [
        {
          "output_type": "stream",
          "name": "stdout",
          "text": [
            "Found 1027 images belonging to 2 classes.\n",
            "Found 256 images belonging to 2 classes.\n"
          ]
        }
      ]
    },
    {
      "cell_type": "code",
      "source": [
        "efn = EfficientNetB7(weights=\"imagenet\", \n",
        "                     include_top = False, \n",
        "                     input_shape = (224,224,3))\n",
        "for layer in efn.layers:\n",
        "    layer.trainable = False\n",
        "\n",
        "model = tf.keras.Sequential()\n",
        "model.add(efn)\n",
        "model.add(tf.keras.layers.Flatten())\n",
        "model.add(tf.keras.layers.Dense(1, activation = 'sigmoid'))\n",
        "model.summary()"
      ],
      "metadata": {
        "colab": {
          "base_uri": "https://localhost:8080/"
        },
        "id": "J8iRxmahz63k",
        "outputId": "581bf5d2-730b-41ee-b713-313bc50e3154"
      },
      "execution_count": 17,
      "outputs": [
        {
          "output_type": "stream",
          "name": "stdout",
          "text": [
            "Model: \"sequential_3\"\n",
            "_________________________________________________________________\n",
            "Layer (type)                 Output Shape              Param #   \n",
            "=================================================================\n",
            "efficientnetb7 (Functional)  (None, 7, 7, 2560)        64097687  \n",
            "_________________________________________________________________\n",
            "flatten_3 (Flatten)          (None, 125440)            0         \n",
            "_________________________________________________________________\n",
            "dense_5 (Dense)              (None, 1)                 125441    \n",
            "=================================================================\n",
            "Total params: 64,223,128\n",
            "Trainable params: 125,441\n",
            "Non-trainable params: 64,097,687\n",
            "_________________________________________________________________\n"
          ]
        }
      ]
    },
    {
      "cell_type": "code",
      "source": [
        "model.compile(optimizer=\"adam\", \n",
        "              loss=\"binary_crossentropy\", \n",
        "              metrics =\"accuracy\")"
      ],
      "metadata": {
        "id": "Iw8pJtVb06Ho"
      },
      "execution_count": 18,
      "outputs": []
    },
    {
      "cell_type": "code",
      "source": [
        "patient = 4\n",
        "save_path = '/content/drive/MyDrive/tf_certification/model3.h5'\n",
        "callbacks_list = [\n",
        "    EarlyStopping(\n",
        "        monitor='val_loss', \n",
        "        patience=patient, \n",
        "        mode='min', \n",
        "        verbose=1\n",
        "    ),\n",
        "    ReduceLROnPlateau(\n",
        "        monitor = 'val_loss', \n",
        "        factor = 0.5, \n",
        "        patience = patient / 2, \n",
        "        min_lr=1e-6,\n",
        "        verbose=1,\n",
        "        mode='min'\n",
        "    ),\n",
        "    ModelCheckpoint(save_path, \n",
        "                    monitor=\"val_accuracy\",\n",
        "                    mode=\"max\",\n",
        "                    verbose=1,\n",
        "                    save_best_only=True)\n",
        "    ]\n"
      ],
      "metadata": {
        "id": "5nPjcEck1CBA"
      },
      "execution_count": 19,
      "outputs": []
    },
    {
      "cell_type": "code",
      "source": [
        "history = model.fit(train_generator,\n",
        "                    batch_size=32,\n",
        "                    epochs=50,\n",
        "                    validation_data=val_generator,\n",
        "                    callbacks=callbacks_list)"
      ],
      "metadata": {
        "colab": {
          "base_uri": "https://localhost:8080/"
        },
        "id": "bcuz_3Rz1KL_",
        "outputId": "a57b677e-c64c-4423-f566-0969da923698"
      },
      "execution_count": 20,
      "outputs": [
        {
          "output_type": "stream",
          "name": "stdout",
          "text": [
            "Epoch 1/50\n",
            "33/33 [==============================] - ETA: 0s - loss: 0.1859 - accuracy: 0.9640\n",
            "Epoch 00001: val_accuracy improved from -inf to 0.99609, saving model to /content/drive/MyDrive/tf_certification/model3.h5\n",
            "33/33 [==============================] - 33s 993ms/step - loss: 0.1859 - accuracy: 0.9640 - val_loss: 0.0997 - val_accuracy: 0.9961\n",
            "Epoch 2/50\n",
            "33/33 [==============================] - ETA: 0s - loss: 0.0143 - accuracy: 0.9981\n",
            "Epoch 00002: val_accuracy improved from 0.99609 to 1.00000, saving model to /content/drive/MyDrive/tf_certification/model3.h5\n",
            "33/33 [==============================] - 26s 797ms/step - loss: 0.0143 - accuracy: 0.9981 - val_loss: 6.8280e-04 - val_accuracy: 1.0000\n",
            "Epoch 3/50\n",
            "33/33 [==============================] - ETA: 0s - loss: 0.0206 - accuracy: 0.9981\n",
            "Epoch 00003: val_accuracy did not improve from 1.00000\n",
            "33/33 [==============================] - 23s 709ms/step - loss: 0.0206 - accuracy: 0.9981 - val_loss: 1.6568e-05 - val_accuracy: 1.0000\n",
            "Epoch 4/50\n",
            "33/33 [==============================] - ETA: 0s - loss: 3.9823e-04 - accuracy: 1.0000\n",
            "Epoch 00004: val_accuracy did not improve from 1.00000\n",
            "33/33 [==============================] - 23s 692ms/step - loss: 3.9823e-04 - accuracy: 1.0000 - val_loss: 0.1033 - val_accuracy: 0.9922\n",
            "Epoch 5/50\n",
            "33/33 [==============================] - ETA: 0s - loss: 0.0023 - accuracy: 0.9990\n",
            "Epoch 00005: ReduceLROnPlateau reducing learning rate to 0.0005000000237487257.\n",
            "\n",
            "Epoch 00005: val_accuracy did not improve from 1.00000\n",
            "33/33 [==============================] - 23s 692ms/step - loss: 0.0023 - accuracy: 0.9990 - val_loss: 0.0756 - val_accuracy: 0.9922\n",
            "Epoch 6/50\n",
            "33/33 [==============================] - ETA: 0s - loss: 0.0122 - accuracy: 0.9990\n",
            "Epoch 00006: val_accuracy did not improve from 1.00000\n",
            "33/33 [==============================] - 23s 700ms/step - loss: 0.0122 - accuracy: 0.9990 - val_loss: 7.8335e-06 - val_accuracy: 1.0000\n",
            "Epoch 7/50\n",
            "33/33 [==============================] - ETA: 0s - loss: 7.1916e-04 - accuracy: 0.9990\n",
            "Epoch 00007: ReduceLROnPlateau reducing learning rate to 0.0002500000118743628.\n",
            "\n",
            "Epoch 00007: val_accuracy did not improve from 1.00000\n",
            "33/33 [==============================] - 23s 692ms/step - loss: 7.1916e-04 - accuracy: 0.9990 - val_loss: 0.0619 - val_accuracy: 0.9922\n",
            "Epoch 8/50\n",
            "33/33 [==============================] - ETA: 0s - loss: 3.4855e-08 - accuracy: 1.0000\n",
            "Epoch 00008: val_accuracy did not improve from 1.00000\n",
            "33/33 [==============================] - 23s 693ms/step - loss: 3.4855e-08 - accuracy: 1.0000 - val_loss: 0.0431 - val_accuracy: 0.9883\n",
            "Epoch 9/50\n",
            "33/33 [==============================] - ETA: 0s - loss: 7.9126e-04 - accuracy: 0.9990\n",
            "Epoch 00009: ReduceLROnPlateau reducing learning rate to 0.0001250000059371814.\n",
            "\n",
            "Epoch 00009: val_accuracy did not improve from 1.00000\n",
            "33/33 [==============================] - 23s 692ms/step - loss: 7.9126e-04 - accuracy: 0.9990 - val_loss: 0.0136 - val_accuracy: 0.9961\n",
            "Epoch 10/50\n",
            "33/33 [==============================] - ETA: 0s - loss: 7.6487e-05 - accuracy: 1.0000\n",
            "Epoch 00010: val_accuracy did not improve from 1.00000\n",
            "33/33 [==============================] - 23s 696ms/step - loss: 7.6487e-05 - accuracy: 1.0000 - val_loss: 0.0513 - val_accuracy: 0.9922\n",
            "Epoch 00010: early stopping\n"
          ]
        }
      ]
    },
    {
      "cell_type": "markdown",
      "source": [
        "2. Text classification\n",
        "\n",
        "Bộ dữ liệu Sarcasm được tải về như dưới, hãy xử lý huấn luyện một mô hình phân loại văn bản là mỉa mai hay không."
      ],
      "metadata": {
        "id": "LsCTrWRB7eRH"
      }
    },
    {
      "cell_type": "code",
      "source": [
        "import json\n",
        "from sklearn.model_selection import train_test_split\n",
        "from tensorflow.keras.preprocessing.text import Tokenizer, one_hot\n",
        "from tensorflow.keras.preprocessing.sequence import pad_sequences"
      ],
      "metadata": {
        "id": "T1WUQ75k9ObI"
      },
      "execution_count": 5,
      "outputs": []
    },
    {
      "cell_type": "code",
      "source": [
        "url = 'https://storage.googleapis.com/download.tensorflow.org/data/sarcasm.json'\n",
        "urllib.request.urlretrieve(url, 'sarcasm.json')\n",
        "\n",
        "# DO NOT CHANGE THIS CODE OR THE TESTS MAY NOT WORK\n",
        "vocab_size = 1000\n",
        "embedding_dim = 16\n",
        "max_length = 120\n",
        "trunc_type='post'\n",
        "padding_type='post'\n",
        "oov_tok = \"<OOV>\"\n",
        "training_size = 20000\n",
        "\n",
        "sentences = []\n",
        "labels = []\n",
        "\n",
        "# YOUR CODE HERE\n",
        "with open('sarcasm.json', 'r') as f:\n",
        "    data = json.load(f)\n",
        "\n",
        "for d in data:\n",
        "    sentences.append(d['headline'])\n",
        "    labels.append(d['is_sarcastic'])\n"
      ],
      "metadata": {
        "id": "k-eGA4LzB99g"
      },
      "execution_count": 6,
      "outputs": []
    },
    {
      "cell_type": "code",
      "source": [
        "len(data)"
      ],
      "metadata": {
        "colab": {
          "base_uri": "https://localhost:8080/"
        },
        "id": "yDOy70pC91Yn",
        "outputId": "bb6dc33b-0c34-47f7-9dd2-f6b65214d2e2"
      },
      "execution_count": 7,
      "outputs": [
        {
          "output_type": "execute_result",
          "data": {
            "text/plain": [
              "26709"
            ]
          },
          "metadata": {},
          "execution_count": 7
        }
      ]
    },
    {
      "cell_type": "code",
      "source": [
        "# training_size = int(len(data)*0.2)\n",
        "# train_sentences = sentences[:training_size]\n",
        "# train_labels = labels[:training_size]\n",
        "# validation_sentences = sentences[training_size:]\n",
        "# validation_labels = labels[training_size:]\n",
        "\n",
        "# # 데이터셋은 numpy array이어야 한다.\n",
        "# train_labels = np.array(train_labels)\n",
        "# validation_labels = np.array(validation_labels)"
      ],
      "metadata": {
        "id": "tCaQPxo-9bo4"
      },
      "execution_count": null,
      "outputs": []
    },
    {
      "cell_type": "code",
      "source": [
        "y = np.array(labels)"
      ],
      "metadata": {
        "id": "BhfK-OBLFEMV"
      },
      "execution_count": 34,
      "outputs": []
    },
    {
      "cell_type": "code",
      "source": [
        "X_train, X_val, y_train, y_val = train_test_split(sentences, y, test_size=0.20, random_state=42)"
      ],
      "metadata": {
        "id": "kCoVyIbf-xm0"
      },
      "execution_count": 25,
      "outputs": []
    },
    {
      "cell_type": "code",
      "source": [
        "tokenizer = Tokenizer(num_words=vocab_size, oov_token='<OOV>')\n",
        "tokenizer.fit_on_texts(sentences)\n",
        "word_to_idx = tokenizer.word_index"
      ],
      "metadata": {
        "id": "-g6gdFyt-yHs"
      },
      "execution_count": 35,
      "outputs": []
    },
    {
      "cell_type": "code",
      "source": [
        "train_sequences = tokenizer.texts_to_sequences(X_train)\n",
        "validation_sequences = tokenizer.texts_to_sequences(X_val)"
      ],
      "metadata": {
        "id": "s2hMK128_XdW"
      },
      "execution_count": 36,
      "outputs": []
    },
    {
      "cell_type": "code",
      "source": [
        "train_padded = pad_sequences(train_sequences, truncating=trunc_type, padding=padding_type, maxlen=max_length)\n",
        "validation_padded = pad_sequences(validation_sequences, padding=padding_type, maxlen=max_length)"
      ],
      "metadata": {
        "id": "ZyYga_U8_hE6"
      },
      "execution_count": 37,
      "outputs": []
    },
    {
      "cell_type": "code",
      "source": [
        "model = tf.keras.Sequential([\n",
        "    tf.keras.layers.Embedding(vocab_size, embedding_dim, input_length=max_length),\n",
        "    tf.keras.layers.Bidirectional(tf.keras.layers.LSTM(32)),\n",
        "    tf.keras.layers.Dense(24, activation='relu'),\n",
        "    tf.keras.layers.Dropout(0.5),\n",
        "    tf.keras.layers.Dense(1, activation='sigmoid')\n",
        "])\n",
        "\n",
        "model.compile(optimizer='adam', loss='binary_crossentropy', metrics=['accuracy'])"
      ],
      "metadata": {
        "id": "wN1I9aLG_l_a"
      },
      "execution_count": 38,
      "outputs": []
    },
    {
      "cell_type": "code",
      "source": [
        "patient = 4\n",
        "save_path = '/content/drive/MyDrive/tf_certification/model4.h5'\n",
        "callbacks_list = [\n",
        "    EarlyStopping(\n",
        "        monitor='val_loss', \n",
        "        patience=patient, \n",
        "        mode='min', \n",
        "        verbose=1\n",
        "    ),\n",
        "    ReduceLROnPlateau(\n",
        "        monitor = 'val_loss', \n",
        "        factor = 0.5, \n",
        "        patience = patient / 2, \n",
        "        min_lr=1e-6,\n",
        "        verbose=1,\n",
        "        mode='min'\n",
        "    ),\n",
        "    ModelCheckpoint(save_path, \n",
        "                    monitor=\"val_accuracy\",\n",
        "                    mode=\"max\",\n",
        "                    verbose=1,\n",
        "                    save_best_only=True)\n",
        "    ]\n"
      ],
      "metadata": {
        "id": "e_gJHTZE_yb5"
      },
      "execution_count": 39,
      "outputs": []
    },
    {
      "cell_type": "code",
      "source": [
        "train_padded.shape , y_train.shape, validation_padded.shape,y_val.shape"
      ],
      "metadata": {
        "colab": {
          "base_uri": "https://localhost:8080/"
        },
        "id": "d0OQWEYXEzAr",
        "outputId": "e55b4fce-1ca2-4852-e25e-44faf0789e7c"
      },
      "execution_count": 40,
      "outputs": [
        {
          "output_type": "execute_result",
          "data": {
            "text/plain": [
              "((21367, 120), (21367,), (5342, 120), (5342,))"
            ]
          },
          "metadata": {},
          "execution_count": 40
        }
      ]
    },
    {
      "cell_type": "code",
      "source": [
        "history = model.fit(x= train_padded, y =y_train,\n",
        "                    batch_size=32,\n",
        "                    epochs=50,\n",
        "                    validation_data=(validation_padded, y_val),\n",
        "                    callbacks=callbacks_list)"
      ],
      "metadata": {
        "colab": {
          "base_uri": "https://localhost:8080/"
        },
        "id": "lGtlxorAAOOB",
        "outputId": "a03eb1e4-a8a3-44ca-e304-39852ef75f8c"
      },
      "execution_count": 32,
      "outputs": [
        {
          "output_type": "stream",
          "name": "stdout",
          "text": [
            "Epoch 1/50\n",
            "667/668 [============================>.] - ETA: 0s - loss: 0.4837 - accuracy: 0.7569\n",
            "Epoch 00001: val_accuracy improved from -inf to 0.82216, saving model to /content/drive/MyDrive/tf_certification/model4.h5\n",
            "668/668 [==============================] - 9s 13ms/step - loss: 0.4837 - accuracy: 0.7570 - val_loss: 0.3792 - val_accuracy: 0.8222\n",
            "Epoch 2/50\n",
            "667/668 [============================>.] - ETA: 0s - loss: 0.3681 - accuracy: 0.8363\n",
            "Epoch 00002: val_accuracy improved from 0.82216 to 0.83620, saving model to /content/drive/MyDrive/tf_certification/model4.h5\n",
            "668/668 [==============================] - 8s 12ms/step - loss: 0.3681 - accuracy: 0.8362 - val_loss: 0.3690 - val_accuracy: 0.8362\n",
            "Epoch 3/50\n",
            "667/668 [============================>.] - ETA: 0s - loss: 0.3366 - accuracy: 0.8515\n",
            "Epoch 00003: val_accuracy did not improve from 0.83620\n",
            "668/668 [==============================] - 12s 18ms/step - loss: 0.3366 - accuracy: 0.8515 - val_loss: 0.3695 - val_accuracy: 0.8353\n",
            "Epoch 4/50\n",
            "666/668 [============================>.] - ETA: 0s - loss: 0.3238 - accuracy: 0.8605\n",
            "Epoch 00004: ReduceLROnPlateau reducing learning rate to 0.0005000000237487257.\n",
            "\n",
            "Epoch 00004: val_accuracy improved from 0.83620 to 0.83901, saving model to /content/drive/MyDrive/tf_certification/model4.h5\n",
            "668/668 [==============================] - 8s 12ms/step - loss: 0.3240 - accuracy: 0.8605 - val_loss: 0.3760 - val_accuracy: 0.8390\n",
            "Epoch 5/50\n",
            "667/668 [============================>.] - ETA: 0s - loss: 0.2984 - accuracy: 0.8707\n",
            "Epoch 00005: val_accuracy improved from 0.83901 to 0.84088, saving model to /content/drive/MyDrive/tf_certification/model4.h5\n",
            "668/668 [==============================] - 8s 12ms/step - loss: 0.2983 - accuracy: 0.8707 - val_loss: 0.3699 - val_accuracy: 0.8409\n",
            "Epoch 6/50\n",
            "668/668 [==============================] - ETA: 0s - loss: 0.2939 - accuracy: 0.8727\n",
            "Epoch 00006: ReduceLROnPlateau reducing learning rate to 0.0002500000118743628.\n",
            "\n",
            "Epoch 00006: val_accuracy did not improve from 0.84088\n",
            "668/668 [==============================] - 8s 12ms/step - loss: 0.2939 - accuracy: 0.8727 - val_loss: 0.3700 - val_accuracy: 0.8390\n",
            "Epoch 00006: early stopping\n"
          ]
        }
      ]
    },
    {
      "cell_type": "code",
      "source": [
        "vocab_size = 10000"
      ],
      "metadata": {
        "id": "Wetc-w3HEDMu"
      },
      "execution_count": 33,
      "outputs": []
    },
    {
      "cell_type": "code",
      "source": [
        "patient = 4\n",
        "save_path = '/content/drive/MyDrive/tf_certification/model4_1.h5'\n",
        "callbacks_list = [\n",
        "    EarlyStopping(\n",
        "        monitor='val_loss', \n",
        "        patience=patient, \n",
        "        mode='min', \n",
        "        verbose=1\n",
        "    ),\n",
        "    ReduceLROnPlateau(\n",
        "        monitor = 'val_loss', \n",
        "        factor = 0.5, \n",
        "        patience = patient / 2, \n",
        "        min_lr=1e-6,\n",
        "        verbose=1,\n",
        "        mode='min'\n",
        "    ),\n",
        "    ModelCheckpoint(save_path, \n",
        "                    monitor=\"val_accuracy\",\n",
        "                    mode=\"max\",\n",
        "                    verbose=1,\n",
        "                    save_best_only=True)\n",
        "    ]\n"
      ],
      "metadata": {
        "id": "lajEmSFnHNM3"
      },
      "execution_count": 42,
      "outputs": []
    },
    {
      "cell_type": "code",
      "source": [
        "history = model.fit(x= train_padded, y =y_train,\n",
        "                    batch_size=32,\n",
        "                    epochs=50,\n",
        "                    validation_data=(validation_padded, y_val),\n",
        "                    callbacks=callbacks_list)"
      ],
      "metadata": {
        "colab": {
          "base_uri": "https://localhost:8080/"
        },
        "id": "AuW5jzqOHak1",
        "outputId": "87af1af8-e16e-47c6-da4e-e3095968d829"
      },
      "execution_count": 43,
      "outputs": [
        {
          "output_type": "stream",
          "name": "stdout",
          "text": [
            "Epoch 1/50\n",
            "666/668 [============================>.] - ETA: 0s - loss: 0.4575 - accuracy: 0.7841\n",
            "Epoch 00001: val_accuracy improved from -inf to 0.85548, saving model to /content/drive/MyDrive/tf_certification/model4_1.h5\n",
            "668/668 [==============================] - 10s 16ms/step - loss: 0.4574 - accuracy: 0.7842 - val_loss: 0.3297 - val_accuracy: 0.8555\n",
            "Epoch 2/50\n",
            "668/668 [==============================] - ETA: 0s - loss: 0.2550 - accuracy: 0.9034\n",
            "Epoch 00002: val_accuracy improved from 0.85548 to 0.86148, saving model to /content/drive/MyDrive/tf_certification/model4_1.h5\n",
            "668/668 [==============================] - 9s 14ms/step - loss: 0.2550 - accuracy: 0.9034 - val_loss: 0.3297 - val_accuracy: 0.8615\n",
            "Epoch 3/50\n",
            "668/668 [==============================] - ETA: 0s - loss: 0.1852 - accuracy: 0.9351\n",
            "Epoch 00003: ReduceLROnPlateau reducing learning rate to 0.0005000000237487257.\n",
            "\n",
            "Epoch 00003: val_accuracy did not improve from 0.86148\n",
            "668/668 [==============================] - 9s 13ms/step - loss: 0.1852 - accuracy: 0.9351 - val_loss: 0.3582 - val_accuracy: 0.8605\n",
            "Epoch 4/50\n",
            "666/668 [============================>.] - ETA: 0s - loss: 0.1208 - accuracy: 0.9623\n",
            "Epoch 00004: val_accuracy did not improve from 0.86148\n",
            "668/668 [==============================] - 9s 13ms/step - loss: 0.1208 - accuracy: 0.9623 - val_loss: 0.4325 - val_accuracy: 0.8602\n",
            "Epoch 5/50\n",
            "668/668 [==============================] - ETA: 0s - loss: 0.0914 - accuracy: 0.9734\n",
            "Epoch 00005: ReduceLROnPlateau reducing learning rate to 0.0002500000118743628.\n",
            "\n",
            "Epoch 00005: val_accuracy did not improve from 0.86148\n",
            "668/668 [==============================] - 9s 13ms/step - loss: 0.0914 - accuracy: 0.9734 - val_loss: 0.4929 - val_accuracy: 0.8587\n",
            "Epoch 00005: early stopping\n"
          ]
        }
      ]
    },
    {
      "cell_type": "code",
      "source": [
        ""
      ],
      "metadata": {
        "id": "HDtLA1MNHiJE"
      },
      "execution_count": null,
      "outputs": []
    }
  ]
}