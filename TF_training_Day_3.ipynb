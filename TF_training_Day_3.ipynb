{
  "cells": [
    {
      "cell_type": "markdown",
      "metadata": {
        "id": "view-in-github",
        "colab_type": "text"
      },
      "source": [
        "<a href=\"https://colab.research.google.com/github/cuongtm2/machine-learning/blob/master/TF_training_Day_3.ipynb\" target=\"_parent\"><img src=\"https://colab.research.google.com/assets/colab-badge.svg\" alt=\"Open In Colab\"/></a>"
      ]
    },
    {
      "cell_type": "code",
      "execution_count": 12,
      "metadata": {
        "id": "rIapdYS3btiL"
      },
      "outputs": [],
      "source": [
        "import csv\n",
        "import tensorflow as tf\n",
        "import numpy as np\n",
        "import urllib\n",
        "from tensorflow.keras.layers import LSTM\n",
        "from tensorflow.keras.callbacks import ModelCheckpoint, EarlyStopping, ReduceLROnPlateau"
      ]
    },
    {
      "cell_type": "code",
      "source": [
        "from google.colab import drive\n",
        "drive.mount('/content/drive')"
      ],
      "metadata": {
        "colab": {
          "base_uri": "https://localhost:8080/"
        },
        "id": "dTYDkvowFbCW",
        "outputId": "3eed7f60-3969-4e11-ac12-99fa9fe2f8dc"
      },
      "execution_count": 14,
      "outputs": [
        {
          "output_type": "stream",
          "name": "stdout",
          "text": [
            "Mounted at /content/drive\n"
          ]
        }
      ]
    },
    {
      "cell_type": "code",
      "execution_count": null,
      "metadata": {
        "id": "ZwOMTvwib9Th"
      },
      "outputs": [],
      "source": [
        "# Build and train a neural network to predict sunspot activity using\n",
        "# the Sunspots.csv dataset.\n",
        "#\n",
        "# Your neural network must have an MAE of 0.12 or less on the normalized dataset\n",
        "# for top marks.\n",
        "#\n",
        "# Code for normalizing the data is provided and should not be changed.\n",
        "#\n",
        "# At the bottom of this file, we provide  some testing\n",
        "# code in case you want to check your model.\n",
        "\n",
        "# Note: Do not use lambda layers in your model, they are not supported\n",
        "# on the grading infrastructure."
      ]
    },
    {
      "cell_type": "code",
      "execution_count": 20,
      "metadata": {
        "id": "jggQnB-YcB54"
      },
      "outputs": [],
      "source": [
        "url = 'https://storage.googleapis.com/download.tensorflow.org/data/Sunspots.csv'\n",
        "urllib.request.urlretrieve(url, 'sunspots.csv')\n",
        "\n",
        "time_step = []\n",
        "sunspots = []\n",
        "\n",
        "with open('sunspots.csv') as csvfile:\n",
        "    reader = csv.reader(csvfile, delimiter=',')\n",
        "    next(reader)\n",
        "    for row in reader:\n",
        "        sunspots.append(float(row[2]))\n",
        "        time_step.append(int(row[0]))\n",
        "\n",
        "series = np.array(sunspots)"
      ]
    },
    {
      "cell_type": "code",
      "execution_count": 3,
      "metadata": {
        "id": "Kf1Xk4omd-fq"
      },
      "outputs": [],
      "source": [
        "# This is the normalization function\n",
        "min = np.min(series)\n",
        "max = np.max(series)\n",
        "series -= min\n",
        "series /= max\n",
        "time = np.array(time_step)\n",
        "\n",
        "# The data should be split into training and validation sets at time step 3000\n",
        "# DO NOT CHANGE THIS CODE\n",
        "split_time = 3000\n",
        "time_train = time[:split_time]\n",
        "x_train = series[:split_time]\n",
        "time_valid = time[split_time:]\n",
        "x_valid = series[split_time:]"
      ]
    },
    {
      "cell_type": "code",
      "source": [
        "# mean = np.mean(series)\n",
        "# std = np.std(series)\n",
        "# series -= mean\n",
        "# series /= std\n",
        "# time = np.array(time_step)\n",
        "\n",
        "# # The data should be split into training and validation sets at time step 3000\n",
        "# # DO NOT CHANGE THIS CODE\n",
        "# split_time = 3000\n",
        "# time_train = time[:split_time]\n",
        "# x_train = series[:split_time]\n",
        "# time_valid = time[split_time:]\n",
        "# x_valid = series[split_time:]"
      ],
      "metadata": {
        "id": "PXp74Z_VKWmW"
      },
      "execution_count": 21,
      "outputs": []
    },
    {
      "cell_type": "code",
      "execution_count": 22,
      "metadata": {
        "id": "l-dCjDxDcF_Q"
      },
      "outputs": [],
      "source": [
        "# DO NOT CHANGE THIS CODE\n",
        "def windowed_dataset(series, window_size, batch_size, shuffle_buffer):\n",
        "    series = tf.expand_dims(series, axis=-1)\n",
        "    ds = tf.data.Dataset.from_tensor_slices(series)\n",
        "    ds = ds.window(window_size + 1, shift=1, drop_remainder=True)\n",
        "    ds = ds.flat_map(lambda w: w.batch(window_size + 1))\n",
        "    ds = ds.shuffle(shuffle_buffer)\n",
        "    ds = ds.map(lambda w: (w[:-1], w[1:]))\n",
        "    return ds.batch(batch_size).prefetch(1)"
      ]
    },
    {
      "cell_type": "code",
      "execution_count": 23,
      "metadata": {
        "id": "ObfPlru6cgCS"
      },
      "outputs": [],
      "source": [
        "# Parameter 1\n",
        "window_size = 30\n",
        "batch_size = 32\n",
        "shuffle_buffer_size = 1000\n",
        "train_set = windowed_dataset(x_train, window_size=window_size, batch_size=batch_size,\n",
        "                              shuffle_buffer=shuffle_buffer_size)\n",
        "val_set = windowed_dataset(x_valid, window_size=window_size, batch_size=batch_size,\n",
        "                              shuffle_buffer=shuffle_buffer_size)\n",
        "\n",
        "\n",
        "# Parameter 2\n",
        "# window_size = 100\n",
        "# batch_size = 512\n",
        "# shuffle_buffer_size = 1000\n",
        "# train_set = windowed_dataset(x_train, window_size, batch_size, shuffle_buffer_size)"
      ]
    },
    {
      "cell_type": "code",
      "source": [
        "tf.keras.backend.clear_session()\n",
        "\n",
        "# Model 2\n",
        "model = tf.keras.models.Sequential([\n",
        "  tf.keras.layers.Conv1D(filters=64, kernel_size=5, strides=1, padding='causal', activation='relu', input_shape=[None, 1]),\n",
        "  tf.keras.layers.Bidirectional(LSTM(64, return_sequences=True)),\n",
        "  tf.keras.layers.Bidirectional(LSTM(64, return_sequences=True)),\n",
        "  tf.keras.layers.Dense(64, activation=\"relu\"),\n",
        "  tf.keras.layers.Dropout(0.5),\n",
        "  tf.keras.layers.Dense(32, activation=\"relu\"),\n",
        "  tf.keras.layers.Dropout(0.5),\n",
        "  tf.keras.layers.Dense(16, activation=\"relu\"),\n",
        "  tf.keras.layers.Dense(1)\n",
        "  # tf.keras.layers.Lambda(lambda x: x * 400)\n",
        "])\n",
        "\n",
        "model.summary()"
      ],
      "metadata": {
        "colab": {
          "base_uri": "https://localhost:8080/"
        },
        "id": "iPn5z8T0uHdP",
        "outputId": "e6da0713-aa72-4834-cce8-54d562e0dad0"
      },
      "execution_count": 24,
      "outputs": [
        {
          "output_type": "stream",
          "name": "stdout",
          "text": [
            "Model: \"sequential\"\n",
            "_________________________________________________________________\n",
            " Layer (type)                Output Shape              Param #   \n",
            "=================================================================\n",
            " conv1d (Conv1D)             (None, None, 64)          384       \n",
            "                                                                 \n",
            " bidirectional (Bidirectiona  (None, None, 128)        66048     \n",
            " l)                                                              \n",
            "                                                                 \n",
            " bidirectional_1 (Bidirectio  (None, None, 128)        98816     \n",
            " nal)                                                            \n",
            "                                                                 \n",
            " dense (Dense)               (None, None, 64)          8256      \n",
            "                                                                 \n",
            " dropout (Dropout)           (None, None, 64)          0         \n",
            "                                                                 \n",
            " dense_1 (Dense)             (None, None, 32)          2080      \n",
            "                                                                 \n",
            " dropout_1 (Dropout)         (None, None, 32)          0         \n",
            "                                                                 \n",
            " dense_2 (Dense)             (None, None, 16)          528       \n",
            "                                                                 \n",
            " dense_3 (Dense)             (None, None, 1)           17        \n",
            "                                                                 \n",
            "=================================================================\n",
            "Total params: 176,129\n",
            "Trainable params: 176,129\n",
            "Non-trainable params: 0\n",
            "_________________________________________________________________\n"
          ]
        }
      ]
    },
    {
      "cell_type": "code",
      "source": [
        "patient = 10\n",
        "save_path = '/content/drive/MyDrive/tf_certification/model5.h5'\n",
        "callbacks_list = [\n",
        "    EarlyStopping(\n",
        "        monitor='val_loss', \n",
        "        patience=patient, \n",
        "        mode='min', \n",
        "        verbose=1\n",
        "    ),\n",
        "    ReduceLROnPlateau(\n",
        "        monitor = 'val_loss', \n",
        "        factor = 0.5, \n",
        "        patience = patient / 2, \n",
        "        min_lr=1e-6,\n",
        "        verbose=1,\n",
        "        mode='min'\n",
        "    ),\n",
        "    ModelCheckpoint(save_path, \n",
        "                    monitor=\"val_mae\",\n",
        "                    mode=\"min\",\n",
        "                    verbose=1,\n",
        "                    save_best_only=True)\n",
        "    ]"
      ],
      "metadata": {
        "id": "nfLMoUDGEyTb"
      },
      "execution_count": 13,
      "outputs": []
    },
    {
      "cell_type": "code",
      "source": [
        "# Training model 2 - parameter 1\n",
        "model.compile(loss=tf.keras.losses.Huber(), optimizer='adam', metrics=['mae'])\n",
        "history = model.fit(train_set, epochs=200, verbose=1,validation_data=val_set,\n",
        "                    callbacks=callbacks_list)"
      ],
      "metadata": {
        "colab": {
          "base_uri": "https://localhost:8080/"
        },
        "id": "LRF6t-zErSjB",
        "outputId": "9926f992-69df-44dc-f9aa-d1d4b79642bd"
      },
      "execution_count": 15,
      "outputs": [
        {
          "output_type": "stream",
          "name": "stdout",
          "text": [
            "Epoch 1/200\n",
            "     93/Unknown - 16s 81ms/step - loss: 0.0058 - mae: 0.0752\n",
            "Epoch 1: val_mae improved from inf to 0.05803, saving model to /content/drive/MyDrive/tf_certification/model5.h5\n",
            "93/93 [==============================] - 18s 108ms/step - loss: 0.0058 - mae: 0.0752 - val_loss: 0.0032 - val_mae: 0.0580 - lr: 0.0010\n",
            "Epoch 2/200\n",
            "93/93 [==============================] - ETA: 0s - loss: 0.0028 - mae: 0.0536\n",
            "Epoch 2: val_mae improved from 0.05803 to 0.05701, saving model to /content/drive/MyDrive/tf_certification/model5.h5\n",
            "93/93 [==============================] - 8s 90ms/step - loss: 0.0028 - mae: 0.0536 - val_loss: 0.0033 - val_mae: 0.0570 - lr: 0.0010\n",
            "Epoch 3/200\n",
            "93/93 [==============================] - ETA: 0s - loss: 0.0022 - mae: 0.0474\n",
            "Epoch 3: val_mae improved from 0.05701 to 0.05276, saving model to /content/drive/MyDrive/tf_certification/model5.h5\n",
            "93/93 [==============================] - 8s 85ms/step - loss: 0.0022 - mae: 0.0474 - val_loss: 0.0031 - val_mae: 0.0528 - lr: 0.0010\n",
            "Epoch 4/200\n",
            "93/93 [==============================] - ETA: 0s - loss: 0.0018 - mae: 0.0429\n",
            "Epoch 4: val_mae did not improve from 0.05276\n",
            "93/93 [==============================] - 8s 82ms/step - loss: 0.0018 - mae: 0.0429 - val_loss: 0.0031 - val_mae: 0.0534 - lr: 0.0010\n",
            "Epoch 5/200\n",
            "93/93 [==============================] - ETA: 0s - loss: 0.0015 - mae: 0.0389\n",
            "Epoch 5: val_mae improved from 0.05276 to 0.04702, saving model to /content/drive/MyDrive/tf_certification/model5.h5\n",
            "93/93 [==============================] - 8s 86ms/step - loss: 0.0015 - mae: 0.0389 - val_loss: 0.0024 - val_mae: 0.0470 - lr: 0.0010\n",
            "Epoch 6/200\n",
            "93/93 [==============================] - ETA: 0s - loss: 0.0013 - mae: 0.0361\n",
            "Epoch 6: val_mae did not improve from 0.04702\n",
            "93/93 [==============================] - 8s 83ms/step - loss: 0.0013 - mae: 0.0361 - val_loss: 0.0023 - val_mae: 0.0481 - lr: 0.0010\n",
            "Epoch 7/200\n",
            "93/93 [==============================] - ETA: 0s - loss: 0.0010 - mae: 0.0325\n",
            "Epoch 7: val_mae did not improve from 0.04702\n",
            "93/93 [==============================] - 8s 83ms/step - loss: 0.0010 - mae: 0.0325 - val_loss: 0.0025 - val_mae: 0.0484 - lr: 0.0010\n",
            "Epoch 8/200\n",
            "93/93 [==============================] - ETA: 0s - loss: 8.5334e-04 - mae: 0.0289\n",
            "Epoch 8: val_mae improved from 0.04702 to 0.03954, saving model to /content/drive/MyDrive/tf_certification/model5.h5\n",
            "93/93 [==============================] - 8s 86ms/step - loss: 8.5334e-04 - mae: 0.0289 - val_loss: 0.0017 - val_mae: 0.0395 - lr: 0.0010\n",
            "Epoch 9/200\n",
            "93/93 [==============================] - ETA: 0s - loss: 6.9396e-04 - mae: 0.0255\n",
            "Epoch 9: val_mae did not improve from 0.03954\n",
            "93/93 [==============================] - 8s 83ms/step - loss: 6.9396e-04 - mae: 0.0255 - val_loss: 0.0020 - val_mae: 0.0425 - lr: 0.0010\n",
            "Epoch 10/200\n",
            "93/93 [==============================] - ETA: 0s - loss: 6.3198e-04 - mae: 0.0239\n",
            "Epoch 10: val_mae did not improve from 0.03954\n",
            "93/93 [==============================] - 8s 84ms/step - loss: 6.3198e-04 - mae: 0.0239 - val_loss: 0.0021 - val_mae: 0.0463 - lr: 0.0010\n",
            "Epoch 11/200\n",
            "93/93 [==============================] - ETA: 0s - loss: 5.8463e-04 - mae: 0.0227\n",
            "Epoch 11: val_mae did not improve from 0.03954\n",
            "93/93 [==============================] - 8s 83ms/step - loss: 5.8463e-04 - mae: 0.0227 - val_loss: 0.0018 - val_mae: 0.0405 - lr: 0.0010\n",
            "Epoch 12/200\n",
            "93/93 [==============================] - ETA: 0s - loss: 5.6554e-04 - mae: 0.0220\n",
            "Epoch 12: val_mae did not improve from 0.03954\n",
            "93/93 [==============================] - 8s 83ms/step - loss: 5.6554e-04 - mae: 0.0220 - val_loss: 0.0018 - val_mae: 0.0398 - lr: 0.0010\n",
            "Epoch 13/200\n",
            "93/93 [==============================] - ETA: 0s - loss: 5.3387e-04 - mae: 0.0213\n",
            "Epoch 13: ReduceLROnPlateau reducing learning rate to 0.0005000000237487257.\n",
            "\n",
            "Epoch 13: val_mae did not improve from 0.03954\n",
            "93/93 [==============================] - 8s 83ms/step - loss: 5.3387e-04 - mae: 0.0213 - val_loss: 0.0017 - val_mae: 0.0412 - lr: 0.0010\n",
            "Epoch 14/200\n",
            "93/93 [==============================] - ETA: 0s - loss: 5.0200e-04 - mae: 0.0206\n",
            "Epoch 14: val_mae did not improve from 0.03954\n",
            "93/93 [==============================] - 8s 83ms/step - loss: 5.0200e-04 - mae: 0.0206 - val_loss: 0.0017 - val_mae: 0.0401 - lr: 5.0000e-04\n",
            "Epoch 15/200\n",
            "93/93 [==============================] - ETA: 0s - loss: 4.8564e-04 - mae: 0.0202\n",
            "Epoch 15: val_mae improved from 0.03954 to 0.03853, saving model to /content/drive/MyDrive/tf_certification/model5.h5\n",
            "93/93 [==============================] - 8s 86ms/step - loss: 4.8564e-04 - mae: 0.0202 - val_loss: 0.0016 - val_mae: 0.0385 - lr: 5.0000e-04\n",
            "Epoch 16/200\n",
            "93/93 [==============================] - ETA: 0s - loss: 4.7768e-04 - mae: 0.0200\n",
            "Epoch 16: val_mae did not improve from 0.03853\n",
            "93/93 [==============================] - 8s 82ms/step - loss: 4.7768e-04 - mae: 0.0200 - val_loss: 0.0016 - val_mae: 0.0396 - lr: 5.0000e-04\n",
            "Epoch 17/200\n",
            "93/93 [==============================] - ETA: 0s - loss: 4.6811e-04 - mae: 0.0197\n",
            "Epoch 17: val_mae improved from 0.03853 to 0.03648, saving model to /content/drive/MyDrive/tf_certification/model5.h5\n",
            "93/93 [==============================] - 8s 86ms/step - loss: 4.6811e-04 - mae: 0.0197 - val_loss: 0.0014 - val_mae: 0.0365 - lr: 5.0000e-04\n",
            "Epoch 18/200\n",
            "93/93 [==============================] - ETA: 0s - loss: 4.6878e-04 - mae: 0.0196\n",
            "Epoch 18: val_mae improved from 0.03648 to 0.03583, saving model to /content/drive/MyDrive/tf_certification/model5.h5\n",
            "93/93 [==============================] - 8s 87ms/step - loss: 4.6878e-04 - mae: 0.0196 - val_loss: 0.0014 - val_mae: 0.0358 - lr: 5.0000e-04\n",
            "Epoch 19/200\n",
            "93/93 [==============================] - ETA: 0s - loss: 4.5600e-04 - mae: 0.0194\n",
            "Epoch 19: val_mae improved from 0.03583 to 0.03311, saving model to /content/drive/MyDrive/tf_certification/model5.h5\n",
            "93/93 [==============================] - 8s 85ms/step - loss: 4.5600e-04 - mae: 0.0194 - val_loss: 0.0012 - val_mae: 0.0331 - lr: 5.0000e-04\n",
            "Epoch 20/200\n",
            "93/93 [==============================] - ETA: 0s - loss: 4.4691e-04 - mae: 0.0193\n",
            "Epoch 20: val_mae did not improve from 0.03311\n",
            "93/93 [==============================] - 8s 83ms/step - loss: 4.4691e-04 - mae: 0.0193 - val_loss: 0.0012 - val_mae: 0.0338 - lr: 5.0000e-04\n",
            "Epoch 21/200\n",
            "93/93 [==============================] - ETA: 0s - loss: 4.2784e-04 - mae: 0.0188\n",
            "Epoch 21: val_mae improved from 0.03311 to 0.03260, saving model to /content/drive/MyDrive/tf_certification/model5.h5\n",
            "93/93 [==============================] - 8s 86ms/step - loss: 4.2784e-04 - mae: 0.0188 - val_loss: 0.0011 - val_mae: 0.0326 - lr: 5.0000e-04\n",
            "Epoch 22/200\n",
            "93/93 [==============================] - ETA: 0s - loss: 4.1670e-04 - mae: 0.0186\n",
            "Epoch 22: val_mae did not improve from 0.03260\n",
            "93/93 [==============================] - 8s 84ms/step - loss: 4.1670e-04 - mae: 0.0186 - val_loss: 0.0011 - val_mae: 0.0330 - lr: 5.0000e-04\n",
            "Epoch 23/200\n",
            "93/93 [==============================] - ETA: 0s - loss: 4.1343e-04 - mae: 0.0185\n",
            "Epoch 23: val_mae improved from 0.03260 to 0.03254, saving model to /content/drive/MyDrive/tf_certification/model5.h5\n",
            "93/93 [==============================] - 8s 87ms/step - loss: 4.1343e-04 - mae: 0.0185 - val_loss: 0.0011 - val_mae: 0.0325 - lr: 5.0000e-04\n",
            "Epoch 24/200\n",
            "93/93 [==============================] - ETA: 0s - loss: 4.1007e-04 - mae: 0.0184\n",
            "Epoch 24: val_mae improved from 0.03254 to 0.03149, saving model to /content/drive/MyDrive/tf_certification/model5.h5\n",
            "93/93 [==============================] - 8s 89ms/step - loss: 4.1007e-04 - mae: 0.0184 - val_loss: 0.0010 - val_mae: 0.0315 - lr: 5.0000e-04\n",
            "Epoch 25/200\n",
            "93/93 [==============================] - ETA: 0s - loss: 3.9538e-04 - mae: 0.0181\n",
            "Epoch 25: val_mae did not improve from 0.03149\n",
            "93/93 [==============================] - 8s 86ms/step - loss: 3.9538e-04 - mae: 0.0181 - val_loss: 0.0011 - val_mae: 0.0323 - lr: 5.0000e-04\n",
            "Epoch 26/200\n",
            "93/93 [==============================] - ETA: 0s - loss: 3.9132e-04 - mae: 0.0179\n",
            "Epoch 26: val_mae improved from 0.03149 to 0.02900, saving model to /content/drive/MyDrive/tf_certification/model5.h5\n",
            "93/93 [==============================] - 8s 88ms/step - loss: 3.9132e-04 - mae: 0.0179 - val_loss: 8.9999e-04 - val_mae: 0.0290 - lr: 5.0000e-04\n",
            "Epoch 27/200\n",
            "93/93 [==============================] - ETA: 0s - loss: 3.8650e-04 - mae: 0.0179\n",
            "Epoch 27: val_mae did not improve from 0.02900\n",
            "93/93 [==============================] - 8s 82ms/step - loss: 3.8650e-04 - mae: 0.0179 - val_loss: 0.0010 - val_mae: 0.0323 - lr: 5.0000e-04\n",
            "Epoch 28/200\n",
            "93/93 [==============================] - ETA: 0s - loss: 3.8021e-04 - mae: 0.0177\n",
            "Epoch 28: val_mae did not improve from 0.02900\n",
            "93/93 [==============================] - 8s 84ms/step - loss: 3.8021e-04 - mae: 0.0177 - val_loss: 9.0948e-04 - val_mae: 0.0294 - lr: 5.0000e-04\n",
            "Epoch 29/200\n",
            "93/93 [==============================] - ETA: 0s - loss: 3.7574e-04 - mae: 0.0175\n",
            "Epoch 29: val_mae did not improve from 0.02900\n",
            "93/93 [==============================] - 8s 84ms/step - loss: 3.7574e-04 - mae: 0.0175 - val_loss: 9.8696e-04 - val_mae: 0.0313 - lr: 5.0000e-04\n",
            "Epoch 30/200\n",
            "93/93 [==============================] - ETA: 0s - loss: 3.7102e-04 - mae: 0.0174\n",
            "Epoch 30: val_mae improved from 0.02900 to 0.02737, saving model to /content/drive/MyDrive/tf_certification/model5.h5\n",
            "93/93 [==============================] - 8s 87ms/step - loss: 3.7102e-04 - mae: 0.0174 - val_loss: 7.7785e-04 - val_mae: 0.0274 - lr: 5.0000e-04\n",
            "Epoch 31/200\n",
            "93/93 [==============================] - ETA: 0s - loss: 3.6802e-04 - mae: 0.0174\n",
            "Epoch 31: val_mae did not improve from 0.02737\n",
            "93/93 [==============================] - 8s 84ms/step - loss: 3.6802e-04 - mae: 0.0174 - val_loss: 9.0268e-04 - val_mae: 0.0295 - lr: 5.0000e-04\n",
            "Epoch 32/200\n",
            "93/93 [==============================] - ETA: 0s - loss: 3.6541e-04 - mae: 0.0172\n",
            "Epoch 32: val_mae did not improve from 0.02737\n",
            "93/93 [==============================] - 8s 85ms/step - loss: 3.6541e-04 - mae: 0.0172 - val_loss: 8.6377e-04 - val_mae: 0.0296 - lr: 5.0000e-04\n",
            "Epoch 33/200\n",
            "93/93 [==============================] - ETA: 0s - loss: 3.6023e-04 - mae: 0.0172\n",
            "Epoch 33: val_mae did not improve from 0.02737\n",
            "93/93 [==============================] - 8s 83ms/step - loss: 3.6023e-04 - mae: 0.0172 - val_loss: 0.0011 - val_mae: 0.0349 - lr: 5.0000e-04\n",
            "Epoch 34/200\n",
            "93/93 [==============================] - ETA: 0s - loss: 3.5462e-04 - mae: 0.0171\n",
            "Epoch 34: val_mae did not improve from 0.02737\n",
            "93/93 [==============================] - 8s 83ms/step - loss: 3.5462e-04 - mae: 0.0171 - val_loss: 8.2985e-04 - val_mae: 0.0282 - lr: 5.0000e-04\n",
            "Epoch 35/200\n",
            "93/93 [==============================] - ETA: 0s - loss: 3.4242e-04 - mae: 0.0167\n",
            "Epoch 35: ReduceLROnPlateau reducing learning rate to 0.0002500000118743628.\n",
            "\n",
            "Epoch 35: val_mae did not improve from 0.02737\n",
            "93/93 [==============================] - 8s 85ms/step - loss: 3.4242e-04 - mae: 0.0167 - val_loss: 7.9075e-04 - val_mae: 0.0279 - lr: 5.0000e-04\n",
            "Epoch 36/200\n",
            "93/93 [==============================] - ETA: 0s - loss: 3.3642e-04 - mae: 0.0165\n",
            "Epoch 36: val_mae did not improve from 0.02737\n",
            "93/93 [==============================] - 8s 84ms/step - loss: 3.3642e-04 - mae: 0.0165 - val_loss: 7.8802e-04 - val_mae: 0.0277 - lr: 2.5000e-04\n",
            "Epoch 37/200\n",
            "93/93 [==============================] - ETA: 0s - loss: 3.3397e-04 - mae: 0.0164\n",
            "Epoch 37: val_mae did not improve from 0.02737\n",
            "93/93 [==============================] - 8s 84ms/step - loss: 3.3397e-04 - mae: 0.0164 - val_loss: 8.1970e-04 - val_mae: 0.0278 - lr: 2.5000e-04\n",
            "Epoch 38/200\n",
            "93/93 [==============================] - ETA: 0s - loss: 3.2692e-04 - mae: 0.0163\n",
            "Epoch 38: val_mae improved from 0.02737 to 0.02732, saving model to /content/drive/MyDrive/tf_certification/model5.h5\n",
            "93/93 [==============================] - 8s 87ms/step - loss: 3.2692e-04 - mae: 0.0163 - val_loss: 7.8475e-04 - val_mae: 0.0273 - lr: 2.5000e-04\n",
            "Epoch 39/200\n",
            "93/93 [==============================] - ETA: 0s - loss: 3.3268e-04 - mae: 0.0164\n",
            "Epoch 39: val_mae improved from 0.02732 to 0.02701, saving model to /content/drive/MyDrive/tf_certification/model5.h5\n",
            "93/93 [==============================] - 8s 88ms/step - loss: 3.3268e-04 - mae: 0.0164 - val_loss: 8.0032e-04 - val_mae: 0.0270 - lr: 2.5000e-04\n",
            "Epoch 40/200\n",
            "93/93 [==============================] - ETA: 0s - loss: 3.2966e-04 - mae: 0.0163\n",
            "Epoch 40: ReduceLROnPlateau reducing learning rate to 0.0001250000059371814.\n",
            "\n",
            "Epoch 40: val_mae did not improve from 0.02701\n",
            "93/93 [==============================] - 8s 84ms/step - loss: 3.2966e-04 - mae: 0.0163 - val_loss: 8.1400e-04 - val_mae: 0.0277 - lr: 2.5000e-04\n",
            "Epoch 40: early stopping\n"
          ]
        }
      ]
    },
    {
      "cell_type": "code",
      "execution_count": 18,
      "metadata": {
        "colab": {
          "base_uri": "https://localhost:8080/"
        },
        "id": "ZcfcTVAMcM_Z",
        "outputId": "e2adba43-a3c2-403d-bf3d-1a8cfbbcc471"
      },
      "outputs": [
        {
          "output_type": "stream",
          "name": "stdout",
          "text": [
            "5\n"
          ]
        }
      ],
      "source": [
        "# THIS CODE IS USED IN THE TESTER FOR FORECASTING. IF YOU WANT TO TEST YOUR MODEL\n",
        "# BEFORE UPLOADING YOU CAN DO IT WITH THIS\n",
        "model = tf.keras.models.load_model(save_path)\n",
        "import math\n",
        "def model_forecast(model, series, window_size):\n",
        "   ds = tf.data.Dataset.from_tensor_slices(series)\n",
        "   ds = ds.window(window_size, shift=1, drop_remainder=True)\n",
        "   ds = ds.flat_map(lambda w: w.batch(window_size))\n",
        "   ds = ds.batch(32).prefetch(1)\n",
        "   forecast = model.predict(ds)\n",
        "   return forecast\n",
        "\n",
        "split_time = 3000\n",
        "window_size = 30\n",
        "# YOUR CODE HERE\n",
        "rnn_forecast = model_forecast(model, series[..., np.newaxis], window_size)\n",
        "rnn_forecast = rnn_forecast[split_time - window_size:-1, -1, 0]\n",
        "\n",
        "result = tf.keras.metrics.mean_absolute_error(x_valid, rnn_forecast).numpy()\n",
        "\n",
        "# To get the maximum score, your model must have an MAE OF .12 or less.\n",
        "# When you Submit and Test your model, the grading infrastructure\n",
        "# converts the MAE of your model to a score from 0 to 5 as follows:\n",
        "\n",
        "test_val = 100 * result\n",
        "score = math.ceil(17 - test_val)\n",
        "if score > 5:\n",
        "   score = 5\n",
        "\n",
        "print(score)"
      ]
    },
    {
      "cell_type": "code",
      "source": [
        "patient = 10\n",
        "save_path = '/content/drive/MyDrive/tf_certification/model5_1.h5'\n",
        "callbacks_list = [\n",
        "    EarlyStopping(\n",
        "        monitor='val_loss', \n",
        "        patience=patient, \n",
        "        mode='min', \n",
        "        verbose=1\n",
        "    ),\n",
        "    ReduceLROnPlateau(\n",
        "        monitor = 'val_loss', \n",
        "        factor = 0.5, \n",
        "        patience = patient / 2, \n",
        "        min_lr=1e-6,\n",
        "        verbose=1,\n",
        "        mode='min'\n",
        "    ),\n",
        "    ModelCheckpoint(save_path, \n",
        "                    monitor=\"val_mae\",\n",
        "                    mode=\"min\",\n",
        "                    verbose=1,\n",
        "                    save_best_only=True)\n",
        "    ]"
      ],
      "metadata": {
        "id": "nMoo8AiqItnj"
      },
      "execution_count": 25,
      "outputs": []
    },
    {
      "cell_type": "code",
      "source": [
        "# Training model 2 - parameter 1\n",
        "model.compile(loss=tf.keras.losses.Huber(), optimizer='adam', metrics=['mae'])\n",
        "history = model.fit(train_set, epochs=200, verbose=1,validation_data=val_set,\n",
        "                    callbacks=callbacks_list)"
      ],
      "metadata": {
        "colab": {
          "base_uri": "https://localhost:8080/"
        },
        "id": "9_tdh2ZAKt7M",
        "outputId": "b7a593d3-2f27-40de-ef45-554b58f49c0f"
      },
      "execution_count": 26,
      "outputs": [
        {
          "output_type": "stream",
          "name": "stdout",
          "text": [
            "Epoch 1/200\n",
            "     93/Unknown - 16s 80ms/step - loss: 0.1879 - mae: 0.4942\n",
            "Epoch 1: val_mae improved from inf to 0.29265, saving model to /content/drive/MyDrive/tf_certification/model5_1.h5\n",
            "93/93 [==============================] - 18s 106ms/step - loss: 0.1879 - mae: 0.4942 - val_loss: 0.0775 - val_mae: 0.2927 - lr: 0.0010\n",
            "Epoch 2/200\n",
            "93/93 [==============================] - ETA: 0s - loss: 0.0753 - mae: 0.2920\n",
            "Epoch 2: val_mae improved from 0.29265 to 0.24257, saving model to /content/drive/MyDrive/tf_certification/model5_1.h5\n",
            "93/93 [==============================] - 8s 87ms/step - loss: 0.0753 - mae: 0.2920 - val_loss: 0.0618 - val_mae: 0.2426 - lr: 0.0010\n",
            "Epoch 3/200\n",
            "93/93 [==============================] - ETA: 0s - loss: 0.0554 - mae: 0.2461\n",
            "Epoch 3: val_mae did not improve from 0.24257\n",
            "93/93 [==============================] - 8s 83ms/step - loss: 0.0554 - mae: 0.2461 - val_loss: 0.0809 - val_mae: 0.2612 - lr: 0.0010\n",
            "Epoch 4/200\n",
            "93/93 [==============================] - ETA: 0s - loss: 0.0404 - mae: 0.2065\n",
            "Epoch 4: val_mae did not improve from 0.24257\n",
            "93/93 [==============================] - 8s 85ms/step - loss: 0.0404 - mae: 0.2065 - val_loss: 0.0824 - val_mae: 0.2482 - lr: 0.0010\n",
            "Epoch 5/200\n",
            "93/93 [==============================] - ETA: 0s - loss: 0.0313 - mae: 0.1754\n",
            "Epoch 5: val_mae did not improve from 0.24257\n",
            "93/93 [==============================] - 8s 84ms/step - loss: 0.0313 - mae: 0.1754 - val_loss: 0.0944 - val_mae: 0.2731 - lr: 0.0010\n",
            "Epoch 6/200\n",
            "93/93 [==============================] - ETA: 0s - loss: 0.0275 - mae: 0.1621\n",
            "Epoch 6: val_mae did not improve from 0.24257\n",
            "93/93 [==============================] - 9s 94ms/step - loss: 0.0275 - mae: 0.1621 - val_loss: 0.0917 - val_mae: 0.2575 - lr: 0.0010\n",
            "Epoch 7/200\n",
            "93/93 [==============================] - ETA: 0s - loss: 0.0242 - mae: 0.1482\n",
            "Epoch 7: ReduceLROnPlateau reducing learning rate to 0.0005000000237487257.\n",
            "\n",
            "Epoch 7: val_mae did not improve from 0.24257\n",
            "93/93 [==============================] - 8s 83ms/step - loss: 0.0242 - mae: 0.1482 - val_loss: 0.0888 - val_mae: 0.2608 - lr: 0.0010\n",
            "Epoch 8/200\n",
            "93/93 [==============================] - ETA: 0s - loss: 0.0224 - mae: 0.1415\n",
            "Epoch 8: val_mae did not improve from 0.24257\n",
            "93/93 [==============================] - 8s 85ms/step - loss: 0.0224 - mae: 0.1415 - val_loss: 0.0866 - val_mae: 0.2437 - lr: 5.0000e-04\n",
            "Epoch 9/200\n",
            "93/93 [==============================] - ETA: 0s - loss: 0.0218 - mae: 0.1386\n",
            "Epoch 9: val_mae did not improve from 0.24257\n",
            "93/93 [==============================] - 8s 86ms/step - loss: 0.0218 - mae: 0.1386 - val_loss: 0.0905 - val_mae: 0.2480 - lr: 5.0000e-04\n",
            "Epoch 10/200\n",
            "93/93 [==============================] - ETA: 0s - loss: 0.0213 - mae: 0.1359\n",
            "Epoch 10: val_mae improved from 0.24257 to 0.23866, saving model to /content/drive/MyDrive/tf_certification/model5_1.h5\n",
            "93/93 [==============================] - 8s 88ms/step - loss: 0.0213 - mae: 0.1359 - val_loss: 0.0871 - val_mae: 0.2387 - lr: 5.0000e-04\n",
            "Epoch 11/200\n",
            "93/93 [==============================] - ETA: 0s - loss: 0.0201 - mae: 0.1323\n",
            "Epoch 11: val_mae improved from 0.23866 to 0.23303, saving model to /content/drive/MyDrive/tf_certification/model5_1.h5\n",
            "93/93 [==============================] - 8s 89ms/step - loss: 0.0201 - mae: 0.1323 - val_loss: 0.0813 - val_mae: 0.2330 - lr: 5.0000e-04\n",
            "Epoch 12/200\n",
            "93/93 [==============================] - ETA: 0s - loss: 0.0198 - mae: 0.1308\n",
            "Epoch 12: ReduceLROnPlateau reducing learning rate to 0.0002500000118743628.\n",
            "\n",
            "Epoch 12: val_mae improved from 0.23303 to 0.23084, saving model to /content/drive/MyDrive/tf_certification/model5_1.h5\n",
            "93/93 [==============================] - 8s 87ms/step - loss: 0.0198 - mae: 0.1308 - val_loss: 0.0799 - val_mae: 0.2308 - lr: 5.0000e-04\n",
            "Epoch 12: early stopping\n"
          ]
        }
      ]
    },
    {
      "cell_type": "code",
      "source": [
        "# THIS CODE IS USED IN THE TESTER FOR FORECASTING. IF YOU WANT TO TEST YOUR MODEL\n",
        "# BEFORE UPLOADING YOU CAN DO IT WITH THIS\n",
        "model = tf.keras.models.load_model(save_path)\n",
        "import math\n",
        "def model_forecast(model, series, window_size):\n",
        "   ds = tf.data.Dataset.from_tensor_slices(series)\n",
        "   ds = ds.window(window_size, shift=1, drop_remainder=True)\n",
        "   ds = ds.flat_map(lambda w: w.batch(window_size))\n",
        "   ds = ds.batch(32).prefetch(1)\n",
        "   forecast = model.predict(ds)\n",
        "   return forecast\n",
        "\n",
        "split_time = 3000\n",
        "window_size = 30\n",
        "# YOUR CODE HERE\n",
        "rnn_forecast = model_forecast(model, series[..., np.newaxis], window_size)\n",
        "rnn_forecast = rnn_forecast[split_time - window_size:-1, -1, 0]\n",
        "\n",
        "result = tf.keras.metrics.mean_absolute_error(x_valid, rnn_forecast).numpy()\n",
        "\n",
        "# To get the maximum score, your model must have an MAE OF .12 or less.\n",
        "# When you Submit and Test your model, the grading infrastructure\n",
        "# converts the MAE of your model to a score from 0 to 5 as follows:\n",
        "\n",
        "test_val = 100 * result\n",
        "score = math.ceil(17 - test_val)\n",
        "if score > 5:\n",
        "   score = 5\n",
        "\n",
        "print(score)"
      ],
      "metadata": {
        "colab": {
          "base_uri": "https://localhost:8080/"
        },
        "id": "NxPKThX7K2Ad",
        "outputId": "a5dc42a4-8123-4bbc-e2ad-87377cc43655"
      },
      "execution_count": 27,
      "outputs": [
        {
          "output_type": "stream",
          "name": "stdout",
          "text": [
            "-15\n"
          ]
        }
      ]
    },
    {
      "cell_type": "code",
      "source": [
        ""
      ],
      "metadata": {
        "id": "EqoNmRp0L7VJ"
      },
      "execution_count": null,
      "outputs": []
    }
  ],
  "metadata": {
    "colab": {
      "name": "TF_training_Day_3.ipynb",
      "provenance": [],
      "include_colab_link": true
    },
    "kernelspec": {
      "display_name": "Python 3",
      "name": "python3"
    },
    "language_info": {
      "name": "python"
    }
  },
  "nbformat": 4,
  "nbformat_minor": 0
}